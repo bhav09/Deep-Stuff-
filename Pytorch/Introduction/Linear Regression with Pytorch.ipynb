{
 "cells": [
  {
   "cell_type": "code",
   "execution_count": 1,
   "metadata": {},
   "outputs": [],
   "source": [
    "#dependencies\n",
    "import pandas as pd\n",
    "import numpy as np\n",
    "import torch\n",
    "import torch.nn as nn\n",
    "import torch.nn.functional as f\n",
    "from torch.utils.data import DataLoader,TensorDataset\n",
    "from torch.optim import Adam"
   ]
  },
  {
   "cell_type": "code",
   "execution_count": 2,
   "metadata": {},
   "outputs": [],
   "source": [
    "path='D:/Data Science/Machine Learning/Machine_Learning/Machine-Learning-A-Z-New/Machine Learning A-Z New\\Part 2 - Regression/Section 5 - Multiple Linear Regression/'\n",
    "df=pd.read_csv(path+'50_Startups.csv')"
   ]
  },
  {
   "cell_type": "code",
   "execution_count": 3,
   "metadata": {},
   "outputs": [
    {
     "data": {
      "text/html": [
       "<div>\n",
       "<style scoped>\n",
       "    .dataframe tbody tr th:only-of-type {\n",
       "        vertical-align: middle;\n",
       "    }\n",
       "\n",
       "    .dataframe tbody tr th {\n",
       "        vertical-align: top;\n",
       "    }\n",
       "\n",
       "    .dataframe thead th {\n",
       "        text-align: right;\n",
       "    }\n",
       "</style>\n",
       "<table border=\"1\" class=\"dataframe\">\n",
       "  <thead>\n",
       "    <tr style=\"text-align: right;\">\n",
       "      <th></th>\n",
       "      <th>R&amp;D Spend</th>\n",
       "      <th>Administration</th>\n",
       "      <th>Marketing Spend</th>\n",
       "      <th>State</th>\n",
       "      <th>Profit</th>\n",
       "    </tr>\n",
       "  </thead>\n",
       "  <tbody>\n",
       "    <tr>\n",
       "      <th>0</th>\n",
       "      <td>165349.20</td>\n",
       "      <td>136897.80</td>\n",
       "      <td>471784.10</td>\n",
       "      <td>New York</td>\n",
       "      <td>192261.83</td>\n",
       "    </tr>\n",
       "    <tr>\n",
       "      <th>1</th>\n",
       "      <td>162597.70</td>\n",
       "      <td>151377.59</td>\n",
       "      <td>443898.53</td>\n",
       "      <td>California</td>\n",
       "      <td>191792.06</td>\n",
       "    </tr>\n",
       "    <tr>\n",
       "      <th>2</th>\n",
       "      <td>153441.51</td>\n",
       "      <td>101145.55</td>\n",
       "      <td>407934.54</td>\n",
       "      <td>Florida</td>\n",
       "      <td>191050.39</td>\n",
       "    </tr>\n",
       "    <tr>\n",
       "      <th>3</th>\n",
       "      <td>144372.41</td>\n",
       "      <td>118671.85</td>\n",
       "      <td>383199.62</td>\n",
       "      <td>New York</td>\n",
       "      <td>182901.99</td>\n",
       "    </tr>\n",
       "    <tr>\n",
       "      <th>4</th>\n",
       "      <td>142107.34</td>\n",
       "      <td>91391.77</td>\n",
       "      <td>366168.42</td>\n",
       "      <td>Florida</td>\n",
       "      <td>166187.94</td>\n",
       "    </tr>\n",
       "  </tbody>\n",
       "</table>\n",
       "</div>"
      ],
      "text/plain": [
       "   R&D Spend  Administration  Marketing Spend       State     Profit\n",
       "0  165349.20       136897.80        471784.10    New York  192261.83\n",
       "1  162597.70       151377.59        443898.53  California  191792.06\n",
       "2  153441.51       101145.55        407934.54     Florida  191050.39\n",
       "3  144372.41       118671.85        383199.62    New York  182901.99\n",
       "4  142107.34        91391.77        366168.42     Florida  166187.94"
      ]
     },
     "execution_count": 3,
     "metadata": {},
     "output_type": "execute_result"
    }
   ],
   "source": [
    "df.head()"
   ]
  },
  {
   "cell_type": "code",
   "execution_count": 4,
   "metadata": {},
   "outputs": [],
   "source": [
    "x=df.iloc[:,:-1].values\n",
    "y=df.iloc[:,-1].values"
   ]
  },
  {
   "cell_type": "code",
   "execution_count": 5,
   "metadata": {},
   "outputs": [],
   "source": [
    "from sklearn.preprocessing import LabelEncoder\n",
    "le=LabelEncoder()\n",
    "x[:,3]=le.fit_transform(x[:,3])"
   ]
  },
  {
   "cell_type": "code",
   "execution_count": 6,
   "metadata": {},
   "outputs": [
    {
     "data": {
      "text/plain": [
       "array([[165349.2, 136897.8, 471784.1, 2],\n",
       "       [162597.7, 151377.59, 443898.53, 0],\n",
       "       [153441.51, 101145.55, 407934.54, 1],\n",
       "       [144372.41, 118671.85, 383199.62, 2]], dtype=object)"
      ]
     },
     "execution_count": 6,
     "metadata": {},
     "output_type": "execute_result"
    }
   ],
   "source": [
    "x[:4]"
   ]
  },
  {
   "cell_type": "code",
   "execution_count": 7,
   "metadata": {},
   "outputs": [
    {
     "data": {
      "text/plain": [
       "(50, 4)"
      ]
     },
     "execution_count": 7,
     "metadata": {},
     "output_type": "execute_result"
    }
   ],
   "source": [
    "x.shape"
   ]
  },
  {
   "cell_type": "code",
   "execution_count": 8,
   "metadata": {},
   "outputs": [
    {
     "data": {
      "text/plain": [
       "array([192261.83, 191792.06, 191050.39, 182901.99, 166187.94, 156991.12,\n",
       "       156122.51, 155752.6 , 152211.77, 149759.96, 146121.95, 144259.4 ,\n",
       "       141585.52, 134307.35, 132602.65, 129917.04, 126992.93, 125370.37,\n",
       "       124266.9 , 122776.86, 118474.03, 111313.02, 110352.25, 108733.99,\n",
       "       108552.04, 107404.34, 105733.54, 105008.31, 103282.38, 101004.64,\n",
       "        99937.59,  97483.56,  97427.84,  96778.92,  96712.8 ,  96479.51,\n",
       "        90708.19,  89949.14,  81229.06,  81005.76,  78239.91,  77798.83,\n",
       "        71498.49,  69758.98,  65200.33,  64926.08,  49490.75,  42559.73,\n",
       "        35673.41,  14681.4 ])"
      ]
     },
     "execution_count": 8,
     "metadata": {},
     "output_type": "execute_result"
    }
   ],
   "source": [
    "y=y.astype(dtype='float64')\n",
    "y"
   ]
  },
  {
   "cell_type": "code",
   "execution_count": 9,
   "metadata": {},
   "outputs": [
    {
     "data": {
      "text/plain": [
       "array([[1.6534920e+05, 1.3689780e+05, 4.7178410e+05, 2.0000000e+00],\n",
       "       [1.6259770e+05, 1.5137759e+05, 4.4389853e+05, 0.0000000e+00]])"
      ]
     },
     "execution_count": 9,
     "metadata": {},
     "output_type": "execute_result"
    }
   ],
   "source": [
    "x=x.astype(dtype='float64') #we had to convert the array to float because one col was int because it was encoded\n",
    "x[:2]       #so we casted entire array as float array because tensors doesn't entertains heterogenous data types"
   ]
  },
  {
   "cell_type": "code",
   "execution_count": 10,
   "metadata": {},
   "outputs": [
    {
     "name": "stdout",
     "output_type": "stream",
     "text": [
      "tensor([[1.6535e+05, 1.3690e+05, 4.7178e+05, 2.0000e+00],\n",
      "        [1.6260e+05, 1.5138e+05, 4.4390e+05, 0.0000e+00]], dtype=torch.float64)\n",
      "tensor([192261.8300, 191792.0600], dtype=torch.float64)\n"
     ]
    }
   ],
   "source": [
    "#two ways to convert arrays to tensors\n",
    "x=torch.tensor(x) #first \n",
    "y=torch.from_numpy(y) #second\n",
    "print(x[:2])\n",
    "print(y[:2])"
   ]
  },
  {
   "cell_type": "code",
   "execution_count": 11,
   "metadata": {},
   "outputs": [
    {
     "name": "stdout",
     "output_type": "stream",
     "text": [
      "Parameter containing:\n",
      "tensor([[-0.3879, -0.1967, -0.2104,  0.2840]], requires_grad=True)\n",
      "Parameter containing:\n",
      "tensor([0.3466], requires_grad=True)\n"
     ]
    }
   ],
   "source": [
    "#definiing model\n",
    "model=nn.Linear(x.shape[1],1)\n",
    "print(model.weight)\n",
    "print(model.bias)"
   ]
  },
  {
   "cell_type": "code",
   "execution_count": 12,
   "metadata": {},
   "outputs": [
    {
     "name": "stdout",
     "output_type": "stream",
     "text": [
      "<bound method Module.parameters of Linear(in_features=4, out_features=1, bias=True)>\n",
      "[Parameter containing:\n",
      "tensor([[-0.3879, -0.1967, -0.2104,  0.2840]], requires_grad=True), Parameter containing:\n",
      "tensor([0.3466], requires_grad=True)]\n"
     ]
    }
   ],
   "source": [
    "#to view all the model parameters\n",
    "print(model.parameters)\n",
    "print(list(model.parameters()))"
   ]
  },
  {
   "cell_type": "code",
   "execution_count": 13,
   "metadata": {},
   "outputs": [
    {
     "name": "stdout",
     "output_type": "stream",
     "text": [
      "tensor([[-190310.0156],\n",
      "        [-186225.6406],\n",
      "        [-165226.7500],\n",
      "        [-159953.2656],\n",
      "        [-150125.6875],\n",
      "        [-147118.6719],\n",
      "        [-108036.2109],\n",
      "        [-147298.6406],\n",
      "        [-141562.0312],\n",
      "        [-133373.9531],\n",
      "        [-109491.5078],\n",
      "        [-109641.4922],\n",
      "        [-114009.9375],\n",
      "        [-115486.8984],\n",
      "        [-131278.5938],\n",
      "        [-123608.6484],\n",
      "        [-109788.2656],\n",
      "        [-124696.8984],\n",
      "        [-120087.3203],\n",
      "        [ -63717.2852],\n",
      "        [-114804.6797],\n",
      "        [-123708.4453],\n",
      "        [-116661.1562],\n",
      "        [-111109.2266],\n",
      "        [ -78984.4219],\n",
      "        [ -81556.2734],\n",
      "        [ -85770.6797],\n",
      "        [-127418.5234],\n",
      "        [ -86402.7188],\n",
      "        [ -78087.7578],\n",
      "        [ -65964.6016],\n",
      "        [ -72309.2500],\n",
      "        [ -59708.4141],\n",
      "        [ -86948.8672],\n",
      "        [ -93372.9141],\n",
      "        [ -77810.7812],\n",
      "        [ -78421.8281],\n",
      "        [ -68629.5781],\n",
      "        [ -59792.2656],\n",
      "        [ -68093.3047],\n",
      "        [ -70823.1953],\n",
      "        [ -62081.4375],\n",
      "        [ -59226.0000],\n",
      "        [ -38547.0000],\n",
      "        [ -45015.6719],\n",
      "        [ -25210.9160],\n",
      "        [ -85795.9453],\n",
      "        [ -26640.8066],\n",
      "        [ -10388.2256],\n",
      "        [ -32515.5879]], grad_fn=<AddmmBackward>)\n"
     ]
    }
   ],
   "source": [
    "y_pred=model(x.float())\n",
    "print(y_pred)"
   ]
  },
  {
   "cell_type": "code",
   "execution_count": 14,
   "metadata": {},
   "outputs": [
    {
     "name": "stdout",
     "output_type": "stream",
     "text": [
      "tensor(4.9871e+10, dtype=torch.float64, grad_fn=<MseLossBackward>)\n"
     ]
    }
   ],
   "source": [
    "#loss function\n",
    "mse=f.mse_loss\n",
    "loss=mse(y_pred.squeeze(1),y)\n",
    "print(loss.double())"
   ]
  },
  {
   "cell_type": "code",
   "execution_count": 15,
   "metadata": {},
   "outputs": [],
   "source": [
    "opt=Adam(model.parameters(),lr=1e-2)"
   ]
  },
  {
   "cell_type": "code",
   "execution_count": 16,
   "metadata": {},
   "outputs": [
    {
     "data": {
      "text/plain": [
       "(tensor([[1.6535e+05, 1.3690e+05, 4.7178e+05, 2.0000e+00],\n",
       "         [1.6260e+05, 1.5138e+05, 4.4390e+05, 0.0000e+00]], dtype=torch.float64),\n",
       " tensor([192261.8300, 191792.0600], dtype=torch.float64))"
      ]
     },
     "execution_count": 16,
     "metadata": {},
     "output_type": "execute_result"
    }
   ],
   "source": [
    "trainset=TensorDataset(x,y)\n",
    "trainset[:2]"
   ]
  },
  {
   "cell_type": "code",
   "execution_count": 17,
   "metadata": {},
   "outputs": [],
   "source": [
    "training_data=DataLoader(trainset,batch_size=5,shuffle=True)"
   ]
  },
  {
   "cell_type": "code",
   "execution_count": 18,
   "metadata": {},
   "outputs": [
    {
     "name": "stdout",
     "output_type": "stream",
     "text": [
      "tensor([[6.4665e+04, 1.3955e+05, 1.3796e+05, 0.0000e+00],\n",
      "        [0.0000e+00, 1.3543e+05, 0.0000e+00, 0.0000e+00],\n",
      "        [6.1994e+04, 1.1564e+05, 9.1131e+04, 1.0000e+00],\n",
      "        [2.2178e+04, 1.5481e+05, 2.8335e+04, 0.0000e+00],\n",
      "        [2.7893e+04, 8.4711e+04, 1.6447e+05, 1.0000e+00]], dtype=torch.float64)\n",
      "tensor([107404.3400,  42559.7300,  99937.5900,  65200.3300,  77798.8300],\n",
      "       dtype=torch.float64)\n"
     ]
    }
   ],
   "source": [
    "for a,b in training_data:\n",
    "    print(a)\n",
    "    print(b)\n",
    "    break"
   ]
  },
  {
   "cell_type": "code",
   "execution_count": null,
   "metadata": {},
   "outputs": [],
   "source": [
    "epochs=100000\n",
    "for epoch in range(epochs):\n",
    "    for inputs,targets in training_data:\n",
    "        pred=model(inputs.float())\n",
    "        pred=pred.squeeze(1)\n",
    "        #print(pred.shape)\n",
    "        #print(inputs.dtype)\n",
    "        #print(targets.dtype)\n",
    "        #print(y_pred.dtype)\n",
    "        pred=pred.double()\n",
    "        loss=mse(pred,targets)\n",
    "        loss.backward() #computing gradients\n",
    "        opt.step() #updating parameters\n",
    "        opt.zero_grad() #setting the grads back to zero\n",
    "    if epoch%1000==0:\n",
    "        #print(f'Epoch:{epoch}/{epochs} | Loss:{loss.item()}')\n",
    "        pass"
   ]
  },
  {
   "cell_type": "code",
   "execution_count": null,
   "metadata": {},
   "outputs": [],
   "source": []
  },
  {
   "cell_type": "code",
   "execution_count": null,
   "metadata": {},
   "outputs": [],
   "source": []
  },
  {
   "cell_type": "code",
   "execution_count": null,
   "metadata": {},
   "outputs": [],
   "source": []
  },
  {
   "cell_type": "code",
   "execution_count": null,
   "metadata": {},
   "outputs": [],
   "source": []
  },
  {
   "cell_type": "code",
   "execution_count": null,
   "metadata": {},
   "outputs": [],
   "source": []
  }
 ],
 "metadata": {
  "kernelspec": {
   "display_name": "Python 3",
   "language": "python",
   "name": "python3"
  },
  "language_info": {
   "codemirror_mode": {
    "name": "ipython",
    "version": 3
   },
   "file_extension": ".py",
   "mimetype": "text/x-python",
   "name": "python",
   "nbconvert_exporter": "python",
   "pygments_lexer": "ipython3",
   "version": "3.7.4"
  }
 },
 "nbformat": 4,
 "nbformat_minor": 2
}
