{
  "nbformat": 4,
  "nbformat_minor": 0,
  "metadata": {
    "colab": {
      "name": "OOPS",
      "provenance": [],
      "collapsed_sections": []
    },
    "kernelspec": {
      "name": "python3",
      "display_name": "Python 3"
    }
  },
  "cells": [
    {
      "cell_type": "markdown",
      "metadata": {
        "id": "24MNMFjn3iPc",
        "colab_type": "text"
      },
      "source": [
        "**Demonstrating Concepts used in OOPS**"
      ]
    },
    {
      "cell_type": "code",
      "metadata": {
        "id": "DUP0FeX14OMb",
        "colab_type": "code",
        "colab": {}
      },
      "source": [
        "#Classes and Objects\n",
        "\n",
        "#Object is the state or the behaviour of an entity. \n",
        "#Class is the collection of objects. \n",
        "#Object is an instance of a class"
      ],
      "execution_count": null,
      "outputs": []
    },
    {
      "cell_type": "code",
      "metadata": {
        "id": "c_QBWfTe1orb",
        "colab_type": "code",
        "colab": {}
      },
      "source": [
        "#can be used to keep a class empty for that specific instance of time.\n",
        "class a:\n",
        "  pass \n"
      ],
      "execution_count": 1,
      "outputs": []
    },
    {
      "cell_type": "code",
      "metadata": {
        "id": "Dl5JwYza2VOB",
        "colab_type": "code",
        "colab": {
          "base_uri": "https://localhost:8080/",
          "height": 67
        },
        "outputId": "01e0fef5-bc91-46ff-b74b-a5115fbf3f2e"
      },
      "source": [
        "#Why Class?\n",
        "class details:\n",
        "  pass\n",
        "d1=details()\n",
        "print(d1)\n",
        "d1.name='Bhavishya'\n",
        "d1.surname='Pandit'\n",
        "print(d1.name)\n",
        "print(d1.surname)\n",
        "# if we do this in this a-fashion then things become very turdy"
      ],
      "execution_count": null,
      "outputs": [
        {
          "output_type": "stream",
          "text": [
            "<__main__.details object at 0x7f58919df390>\n",
            "Bhavishya\n",
            "Pandit\n"
          ],
          "name": "stdout"
        }
      ]
    },
    {
      "cell_type": "code",
      "metadata": {
        "id": "WCzXKCI32VKv",
        "colab_type": "code",
        "colab": {
          "base_uri": "https://localhost:8080/",
          "height": 84
        },
        "outputId": "a4b6a119-aadd-45e4-a798-ea011db1f3a7"
      },
      "source": [
        "# So will choose it to do like this\n",
        "class classname:\n",
        "  def __init__(self,name,surname,pay): #you can relate it to be more like a constructor\n",
        "    self.name=name\n",
        "    self.surname=surname\n",
        "    self.pay=pay\n",
        "    print('Your name is:',name+surname)\n",
        "\n",
        "  def greetings(self): #method or a member function\n",
        "    print('Have a great day {}{} !'.format(self.name,self.surname))\n",
        "\n",
        "c=classname('Iron',' Man',50000)\n",
        "c1=classname('Bhavishya',' Pandit',100000)\n",
        "print(c1.name)\n",
        "c1.greetings()\n",
        "#here we see the length of the code fell considerably\n",
        "#The self parameter is a reference to the current instance of the class, and is used to access variables that belongs to the class.\n",
        "#self parameter can be renamed and would still work\n",
        "\n",
        "#classname.greetings(c1) is same as c1.greetings(); here in the 2nd one you will have to create the object before that."
      ],
      "execution_count": null,
      "outputs": [
        {
          "output_type": "stream",
          "text": [
            "Your name is: Iron Man\n",
            "Your name is: Bhavishya Pandit\n",
            "Bhavishya\n",
            "Have a great day Bhavishya Pandit !\n"
          ],
          "name": "stdout"
        }
      ]
    },
    {
      "cell_type": "code",
      "metadata": {
        "id": "r8pScKMO2VH5",
        "colab_type": "code",
        "colab": {}
      },
      "source": [
        "'''\n",
        "Destructors are called when an object gets destroyed. In Python, destructors are \n",
        "not needed as much needed in C++ because Python has a garbage collector that handles memory management automatically.\n",
        "The __del__() method is a known as a destructor method in Python'''"
      ],
      "execution_count": null,
      "outputs": []
    },
    {
      "cell_type": "code",
      "metadata": {
        "id": "VjUW0vIJ2VFh",
        "colab_type": "code",
        "colab": {
          "base_uri": "https://localhost:8080/",
          "height": 34
        },
        "outputId": "a2d6630a-ebb4-4470-82b9-a978b0ec55d8"
      },
      "source": [
        "#dynamic arguments in functions\n",
        "def add(*m):\n",
        "    s=0\n",
        "    for i in m:\n",
        "        s = s+i\n",
        "    print(s)\n",
        "\n",
        "add(15,45,10,20,30,44)"
      ],
      "execution_count": 10,
      "outputs": [
        {
          "output_type": "stream",
          "text": [
            "164\n"
          ],
          "name": "stdout"
        }
      ]
    },
    {
      "cell_type": "code",
      "metadata": {
        "id": "9c6IhJ1B9mmT",
        "colab_type": "code",
        "colab": {
          "base_uri": "https://localhost:8080/",
          "height": 34
        },
        "outputId": "d8ece0ef-9cc1-4987-f4a1-c7bdcb03cf82"
      },
      "source": [
        "#method overriding\n",
        "'''\n",
        "Overriding is the property of a class to change the implementation of a method provided by one of its base classes. ... \n",
        "Method overriding is thus a part of the inheritance mechanism.\n",
        "In Python method overriding occurs by simply defining in the child class a method with the same name of a method in the parent class\n",
        "'''\n",
        "class parent():\n",
        "    def __init__(self):\n",
        "        self.value=4\n",
        "    def get_value(self):\n",
        "        print(self.value)\n",
        "class child(parent):\n",
        "    def get_value(self):\n",
        "        print(self.value +1)\n",
        "\n",
        "c=child()\n",
        "c.get_value()"
      ],
      "execution_count": 12,
      "outputs": [
        {
          "output_type": "stream",
          "text": [
            "5\n"
          ],
          "name": "stdout"
        }
      ]
    },
    {
      "cell_type": "code",
      "metadata": {
        "id": "pkxlNLqc9mi9",
        "colab_type": "code",
        "colab": {
          "base_uri": "https://localhost:8080/",
          "height": 34
        },
        "outputId": "f8a2fd54-a86a-4317-c1fa-580d03f92664"
      },
      "source": [
        "#method overloading\n",
        "'''\n",
        "Method Overloading is the class having methods that are the same name with different arguments.\n",
        "Arguments different will be based on a number of arguments and types of arguments.\n",
        "It is used in a single class. It is also used to write the code clarity as well as reduce complexity.\n",
        "'''\n",
        "class mul:\n",
        "    def two(self,a,b):\n",
        "        p=a*b\n",
        "        print('Product of',a,b,end=':')\n",
        "        print(p)\n",
        "    def two(self,a,b,c):            \n",
        "        p=a*b*c\n",
        "        print('Product of',a,b,c,end=': ')\n",
        "        print(p)\n",
        "m=mul()\n",
        "m.two(2,3,4)\n",
        "\n",
        "#overloading is not possible in python bcz the function gets over written. And thus shows errror"
      ],
      "execution_count": 13,
      "outputs": [
        {
          "output_type": "stream",
          "text": [
            "Product of 2 3 4:24\n"
          ],
          "name": "stdout"
        }
      ]
    },
    {
      "cell_type": "code",
      "metadata": {
        "id": "BGBWFim8qMHk",
        "colab_type": "code",
        "colab": {}
      },
      "source": [
        ""
      ],
      "execution_count": null,
      "outputs": []
    },
    {
      "cell_type": "code",
      "metadata": {
        "id": "qrFvFzaqWTBI",
        "colab_type": "code",
        "colab": {}
      },
      "source": [
        ""
      ],
      "execution_count": null,
      "outputs": []
    },
    {
      "cell_type": "code",
      "metadata": {
        "id": "yVuuK_FcWS-H",
        "colab_type": "code",
        "colab": {}
      },
      "source": [
        ""
      ],
      "execution_count": null,
      "outputs": []
    }
  ]
}