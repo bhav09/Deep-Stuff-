{
  "nbformat": 4,
  "nbformat_minor": 0,
  "metadata": {
    "colab": {
      "name": "MNIST_with_Pytorch",
      "provenance": [],
      "collapsed_sections": []
    },
    "kernelspec": {
      "name": "python3",
      "display_name": "Python 3"
    },
    "widgets": {
      "application/vnd.jupyter.widget-state+json": {
        "278880e665b04d278663c856ee34ad83": {
          "model_module": "@jupyter-widgets/controls",
          "model_name": "HBoxModel",
          "state": {
            "_view_name": "HBoxView",
            "_dom_classes": [],
            "_model_name": "HBoxModel",
            "_view_module": "@jupyter-widgets/controls",
            "_model_module_version": "1.5.0",
            "_view_count": null,
            "_view_module_version": "1.5.0",
            "box_style": "",
            "layout": "IPY_MODEL_3c0f44d5fa4c4267a3aa2fe79d337231",
            "_model_module": "@jupyter-widgets/controls",
            "children": [
              "IPY_MODEL_727607af820e48aba3a62e9bdf73f589",
              "IPY_MODEL_183da83d0c6445299d2785f61be9b46d"
            ]
          }
        },
        "3c0f44d5fa4c4267a3aa2fe79d337231": {
          "model_module": "@jupyter-widgets/base",
          "model_name": "LayoutModel",
          "state": {
            "_view_name": "LayoutView",
            "grid_template_rows": null,
            "right": null,
            "justify_content": null,
            "_view_module": "@jupyter-widgets/base",
            "overflow": null,
            "_model_module_version": "1.2.0",
            "_view_count": null,
            "flex_flow": null,
            "width": null,
            "min_width": null,
            "border": null,
            "align_items": null,
            "bottom": null,
            "_model_module": "@jupyter-widgets/base",
            "top": null,
            "grid_column": null,
            "overflow_y": null,
            "overflow_x": null,
            "grid_auto_flow": null,
            "grid_area": null,
            "grid_template_columns": null,
            "flex": null,
            "_model_name": "LayoutModel",
            "justify_items": null,
            "grid_row": null,
            "max_height": null,
            "align_content": null,
            "visibility": null,
            "align_self": null,
            "height": null,
            "min_height": null,
            "padding": null,
            "grid_auto_rows": null,
            "grid_gap": null,
            "max_width": null,
            "order": null,
            "_view_module_version": "1.2.0",
            "grid_template_areas": null,
            "object_position": null,
            "object_fit": null,
            "grid_auto_columns": null,
            "margin": null,
            "display": null,
            "left": null
          }
        },
        "727607af820e48aba3a62e9bdf73f589": {
          "model_module": "@jupyter-widgets/controls",
          "model_name": "FloatProgressModel",
          "state": {
            "_view_name": "ProgressView",
            "style": "IPY_MODEL_507709357228450c86ba5d1aad3b6871",
            "_dom_classes": [],
            "description": "",
            "_model_name": "FloatProgressModel",
            "bar_style": "success",
            "max": 1,
            "_view_module": "@jupyter-widgets/controls",
            "_model_module_version": "1.5.0",
            "value": 1,
            "_view_count": null,
            "_view_module_version": "1.5.0",
            "orientation": "horizontal",
            "min": 0,
            "description_tooltip": null,
            "_model_module": "@jupyter-widgets/controls",
            "layout": "IPY_MODEL_efbaca52f4f8453fa588a905b085cf6f"
          }
        },
        "183da83d0c6445299d2785f61be9b46d": {
          "model_module": "@jupyter-widgets/controls",
          "model_name": "HTMLModel",
          "state": {
            "_view_name": "HTMLView",
            "style": "IPY_MODEL_f264f2a7dc0b46e6b2a08f6387b4e572",
            "_dom_classes": [],
            "description": "",
            "_model_name": "HTMLModel",
            "placeholder": "​",
            "_view_module": "@jupyter-widgets/controls",
            "_model_module_version": "1.5.0",
            "value": " 9920512/? [00:06&lt;00:00, 1595403.66it/s]",
            "_view_count": null,
            "_view_module_version": "1.5.0",
            "description_tooltip": null,
            "_model_module": "@jupyter-widgets/controls",
            "layout": "IPY_MODEL_3a263239c88c4f75868c91d6a2a5879e"
          }
        },
        "507709357228450c86ba5d1aad3b6871": {
          "model_module": "@jupyter-widgets/controls",
          "model_name": "ProgressStyleModel",
          "state": {
            "_view_name": "StyleView",
            "_model_name": "ProgressStyleModel",
            "description_width": "initial",
            "_view_module": "@jupyter-widgets/base",
            "_model_module_version": "1.5.0",
            "_view_count": null,
            "_view_module_version": "1.2.0",
            "bar_color": null,
            "_model_module": "@jupyter-widgets/controls"
          }
        },
        "efbaca52f4f8453fa588a905b085cf6f": {
          "model_module": "@jupyter-widgets/base",
          "model_name": "LayoutModel",
          "state": {
            "_view_name": "LayoutView",
            "grid_template_rows": null,
            "right": null,
            "justify_content": null,
            "_view_module": "@jupyter-widgets/base",
            "overflow": null,
            "_model_module_version": "1.2.0",
            "_view_count": null,
            "flex_flow": null,
            "width": null,
            "min_width": null,
            "border": null,
            "align_items": null,
            "bottom": null,
            "_model_module": "@jupyter-widgets/base",
            "top": null,
            "grid_column": null,
            "overflow_y": null,
            "overflow_x": null,
            "grid_auto_flow": null,
            "grid_area": null,
            "grid_template_columns": null,
            "flex": null,
            "_model_name": "LayoutModel",
            "justify_items": null,
            "grid_row": null,
            "max_height": null,
            "align_content": null,
            "visibility": null,
            "align_self": null,
            "height": null,
            "min_height": null,
            "padding": null,
            "grid_auto_rows": null,
            "grid_gap": null,
            "max_width": null,
            "order": null,
            "_view_module_version": "1.2.0",
            "grid_template_areas": null,
            "object_position": null,
            "object_fit": null,
            "grid_auto_columns": null,
            "margin": null,
            "display": null,
            "left": null
          }
        },
        "f264f2a7dc0b46e6b2a08f6387b4e572": {
          "model_module": "@jupyter-widgets/controls",
          "model_name": "DescriptionStyleModel",
          "state": {
            "_view_name": "StyleView",
            "_model_name": "DescriptionStyleModel",
            "description_width": "",
            "_view_module": "@jupyter-widgets/base",
            "_model_module_version": "1.5.0",
            "_view_count": null,
            "_view_module_version": "1.2.0",
            "_model_module": "@jupyter-widgets/controls"
          }
        },
        "3a263239c88c4f75868c91d6a2a5879e": {
          "model_module": "@jupyter-widgets/base",
          "model_name": "LayoutModel",
          "state": {
            "_view_name": "LayoutView",
            "grid_template_rows": null,
            "right": null,
            "justify_content": null,
            "_view_module": "@jupyter-widgets/base",
            "overflow": null,
            "_model_module_version": "1.2.0",
            "_view_count": null,
            "flex_flow": null,
            "width": null,
            "min_width": null,
            "border": null,
            "align_items": null,
            "bottom": null,
            "_model_module": "@jupyter-widgets/base",
            "top": null,
            "grid_column": null,
            "overflow_y": null,
            "overflow_x": null,
            "grid_auto_flow": null,
            "grid_area": null,
            "grid_template_columns": null,
            "flex": null,
            "_model_name": "LayoutModel",
            "justify_items": null,
            "grid_row": null,
            "max_height": null,
            "align_content": null,
            "visibility": null,
            "align_self": null,
            "height": null,
            "min_height": null,
            "padding": null,
            "grid_auto_rows": null,
            "grid_gap": null,
            "max_width": null,
            "order": null,
            "_view_module_version": "1.2.0",
            "grid_template_areas": null,
            "object_position": null,
            "object_fit": null,
            "grid_auto_columns": null,
            "margin": null,
            "display": null,
            "left": null
          }
        },
        "7cce967d76664534b1652ff5510169eb": {
          "model_module": "@jupyter-widgets/controls",
          "model_name": "HBoxModel",
          "state": {
            "_view_name": "HBoxView",
            "_dom_classes": [],
            "_model_name": "HBoxModel",
            "_view_module": "@jupyter-widgets/controls",
            "_model_module_version": "1.5.0",
            "_view_count": null,
            "_view_module_version": "1.5.0",
            "box_style": "",
            "layout": "IPY_MODEL_f986fda2fc1d4ed28a7e2456631c94af",
            "_model_module": "@jupyter-widgets/controls",
            "children": [
              "IPY_MODEL_1c50f00b2da649dcbce2461c76caa9b5",
              "IPY_MODEL_bd28acf18b1b4b0eb15c42277b8e6700"
            ]
          }
        },
        "f986fda2fc1d4ed28a7e2456631c94af": {
          "model_module": "@jupyter-widgets/base",
          "model_name": "LayoutModel",
          "state": {
            "_view_name": "LayoutView",
            "grid_template_rows": null,
            "right": null,
            "justify_content": null,
            "_view_module": "@jupyter-widgets/base",
            "overflow": null,
            "_model_module_version": "1.2.0",
            "_view_count": null,
            "flex_flow": null,
            "width": null,
            "min_width": null,
            "border": null,
            "align_items": null,
            "bottom": null,
            "_model_module": "@jupyter-widgets/base",
            "top": null,
            "grid_column": null,
            "overflow_y": null,
            "overflow_x": null,
            "grid_auto_flow": null,
            "grid_area": null,
            "grid_template_columns": null,
            "flex": null,
            "_model_name": "LayoutModel",
            "justify_items": null,
            "grid_row": null,
            "max_height": null,
            "align_content": null,
            "visibility": null,
            "align_self": null,
            "height": null,
            "min_height": null,
            "padding": null,
            "grid_auto_rows": null,
            "grid_gap": null,
            "max_width": null,
            "order": null,
            "_view_module_version": "1.2.0",
            "grid_template_areas": null,
            "object_position": null,
            "object_fit": null,
            "grid_auto_columns": null,
            "margin": null,
            "display": null,
            "left": null
          }
        },
        "1c50f00b2da649dcbce2461c76caa9b5": {
          "model_module": "@jupyter-widgets/controls",
          "model_name": "FloatProgressModel",
          "state": {
            "_view_name": "ProgressView",
            "style": "IPY_MODEL_5f2e8c81adbb4b0dad3e690fbe1577be",
            "_dom_classes": [],
            "description": "",
            "_model_name": "FloatProgressModel",
            "bar_style": "success",
            "max": 1,
            "_view_module": "@jupyter-widgets/controls",
            "_model_module_version": "1.5.0",
            "value": 1,
            "_view_count": null,
            "_view_module_version": "1.5.0",
            "orientation": "horizontal",
            "min": 0,
            "description_tooltip": null,
            "_model_module": "@jupyter-widgets/controls",
            "layout": "IPY_MODEL_96800a9201da4202bf37baaa5581689f"
          }
        },
        "bd28acf18b1b4b0eb15c42277b8e6700": {
          "model_module": "@jupyter-widgets/controls",
          "model_name": "HTMLModel",
          "state": {
            "_view_name": "HTMLView",
            "style": "IPY_MODEL_963ebb19f53c460bb7c12da28d26907e",
            "_dom_classes": [],
            "description": "",
            "_model_name": "HTMLModel",
            "placeholder": "​",
            "_view_module": "@jupyter-widgets/controls",
            "_model_module_version": "1.5.0",
            "value": " 32768/? [00:02&lt;00:00, 12399.02it/s]",
            "_view_count": null,
            "_view_module_version": "1.5.0",
            "description_tooltip": null,
            "_model_module": "@jupyter-widgets/controls",
            "layout": "IPY_MODEL_db659aae703345aa9e75469762583f45"
          }
        },
        "5f2e8c81adbb4b0dad3e690fbe1577be": {
          "model_module": "@jupyter-widgets/controls",
          "model_name": "ProgressStyleModel",
          "state": {
            "_view_name": "StyleView",
            "_model_name": "ProgressStyleModel",
            "description_width": "initial",
            "_view_module": "@jupyter-widgets/base",
            "_model_module_version": "1.5.0",
            "_view_count": null,
            "_view_module_version": "1.2.0",
            "bar_color": null,
            "_model_module": "@jupyter-widgets/controls"
          }
        },
        "96800a9201da4202bf37baaa5581689f": {
          "model_module": "@jupyter-widgets/base",
          "model_name": "LayoutModel",
          "state": {
            "_view_name": "LayoutView",
            "grid_template_rows": null,
            "right": null,
            "justify_content": null,
            "_view_module": "@jupyter-widgets/base",
            "overflow": null,
            "_model_module_version": "1.2.0",
            "_view_count": null,
            "flex_flow": null,
            "width": null,
            "min_width": null,
            "border": null,
            "align_items": null,
            "bottom": null,
            "_model_module": "@jupyter-widgets/base",
            "top": null,
            "grid_column": null,
            "overflow_y": null,
            "overflow_x": null,
            "grid_auto_flow": null,
            "grid_area": null,
            "grid_template_columns": null,
            "flex": null,
            "_model_name": "LayoutModel",
            "justify_items": null,
            "grid_row": null,
            "max_height": null,
            "align_content": null,
            "visibility": null,
            "align_self": null,
            "height": null,
            "min_height": null,
            "padding": null,
            "grid_auto_rows": null,
            "grid_gap": null,
            "max_width": null,
            "order": null,
            "_view_module_version": "1.2.0",
            "grid_template_areas": null,
            "object_position": null,
            "object_fit": null,
            "grid_auto_columns": null,
            "margin": null,
            "display": null,
            "left": null
          }
        },
        "963ebb19f53c460bb7c12da28d26907e": {
          "model_module": "@jupyter-widgets/controls",
          "model_name": "DescriptionStyleModel",
          "state": {
            "_view_name": "StyleView",
            "_model_name": "DescriptionStyleModel",
            "description_width": "",
            "_view_module": "@jupyter-widgets/base",
            "_model_module_version": "1.5.0",
            "_view_count": null,
            "_view_module_version": "1.2.0",
            "_model_module": "@jupyter-widgets/controls"
          }
        },
        "db659aae703345aa9e75469762583f45": {
          "model_module": "@jupyter-widgets/base",
          "model_name": "LayoutModel",
          "state": {
            "_view_name": "LayoutView",
            "grid_template_rows": null,
            "right": null,
            "justify_content": null,
            "_view_module": "@jupyter-widgets/base",
            "overflow": null,
            "_model_module_version": "1.2.0",
            "_view_count": null,
            "flex_flow": null,
            "width": null,
            "min_width": null,
            "border": null,
            "align_items": null,
            "bottom": null,
            "_model_module": "@jupyter-widgets/base",
            "top": null,
            "grid_column": null,
            "overflow_y": null,
            "overflow_x": null,
            "grid_auto_flow": null,
            "grid_area": null,
            "grid_template_columns": null,
            "flex": null,
            "_model_name": "LayoutModel",
            "justify_items": null,
            "grid_row": null,
            "max_height": null,
            "align_content": null,
            "visibility": null,
            "align_self": null,
            "height": null,
            "min_height": null,
            "padding": null,
            "grid_auto_rows": null,
            "grid_gap": null,
            "max_width": null,
            "order": null,
            "_view_module_version": "1.2.0",
            "grid_template_areas": null,
            "object_position": null,
            "object_fit": null,
            "grid_auto_columns": null,
            "margin": null,
            "display": null,
            "left": null
          }
        },
        "acf6423c7bb94559a85be37652097f87": {
          "model_module": "@jupyter-widgets/controls",
          "model_name": "HBoxModel",
          "state": {
            "_view_name": "HBoxView",
            "_dom_classes": [],
            "_model_name": "HBoxModel",
            "_view_module": "@jupyter-widgets/controls",
            "_model_module_version": "1.5.0",
            "_view_count": null,
            "_view_module_version": "1.5.0",
            "box_style": "",
            "layout": "IPY_MODEL_667419cfe2ca416a8729f3249992952a",
            "_model_module": "@jupyter-widgets/controls",
            "children": [
              "IPY_MODEL_4f107101578e405e900714c0b9d49830",
              "IPY_MODEL_0dd254f73e8b41449baef91828493d06"
            ]
          }
        },
        "667419cfe2ca416a8729f3249992952a": {
          "model_module": "@jupyter-widgets/base",
          "model_name": "LayoutModel",
          "state": {
            "_view_name": "LayoutView",
            "grid_template_rows": null,
            "right": null,
            "justify_content": null,
            "_view_module": "@jupyter-widgets/base",
            "overflow": null,
            "_model_module_version": "1.2.0",
            "_view_count": null,
            "flex_flow": null,
            "width": null,
            "min_width": null,
            "border": null,
            "align_items": null,
            "bottom": null,
            "_model_module": "@jupyter-widgets/base",
            "top": null,
            "grid_column": null,
            "overflow_y": null,
            "overflow_x": null,
            "grid_auto_flow": null,
            "grid_area": null,
            "grid_template_columns": null,
            "flex": null,
            "_model_name": "LayoutModel",
            "justify_items": null,
            "grid_row": null,
            "max_height": null,
            "align_content": null,
            "visibility": null,
            "align_self": null,
            "height": null,
            "min_height": null,
            "padding": null,
            "grid_auto_rows": null,
            "grid_gap": null,
            "max_width": null,
            "order": null,
            "_view_module_version": "1.2.0",
            "grid_template_areas": null,
            "object_position": null,
            "object_fit": null,
            "grid_auto_columns": null,
            "margin": null,
            "display": null,
            "left": null
          }
        },
        "4f107101578e405e900714c0b9d49830": {
          "model_module": "@jupyter-widgets/controls",
          "model_name": "FloatProgressModel",
          "state": {
            "_view_name": "ProgressView",
            "style": "IPY_MODEL_a8093bbd3cc64b28bd0b42ec99f58db2",
            "_dom_classes": [],
            "description": "",
            "_model_name": "FloatProgressModel",
            "bar_style": "success",
            "max": 1,
            "_view_module": "@jupyter-widgets/controls",
            "_model_module_version": "1.5.0",
            "value": 1,
            "_view_count": null,
            "_view_module_version": "1.5.0",
            "orientation": "horizontal",
            "min": 0,
            "description_tooltip": null,
            "_model_module": "@jupyter-widgets/controls",
            "layout": "IPY_MODEL_34d43f3057af42c29311f77723780f2b"
          }
        },
        "0dd254f73e8b41449baef91828493d06": {
          "model_module": "@jupyter-widgets/controls",
          "model_name": "HTMLModel",
          "state": {
            "_view_name": "HTMLView",
            "style": "IPY_MODEL_c9375f7de1044a949e49d87cbf94fbb0",
            "_dom_classes": [],
            "description": "",
            "_model_name": "HTMLModel",
            "placeholder": "​",
            "_view_module": "@jupyter-widgets/controls",
            "_model_module_version": "1.5.0",
            "value": " 1654784/? [00:01&lt;00:00, 831091.02it/s]",
            "_view_count": null,
            "_view_module_version": "1.5.0",
            "description_tooltip": null,
            "_model_module": "@jupyter-widgets/controls",
            "layout": "IPY_MODEL_eeedc750c0bf4278a05ff68cc24d103e"
          }
        },
        "a8093bbd3cc64b28bd0b42ec99f58db2": {
          "model_module": "@jupyter-widgets/controls",
          "model_name": "ProgressStyleModel",
          "state": {
            "_view_name": "StyleView",
            "_model_name": "ProgressStyleModel",
            "description_width": "initial",
            "_view_module": "@jupyter-widgets/base",
            "_model_module_version": "1.5.0",
            "_view_count": null,
            "_view_module_version": "1.2.0",
            "bar_color": null,
            "_model_module": "@jupyter-widgets/controls"
          }
        },
        "34d43f3057af42c29311f77723780f2b": {
          "model_module": "@jupyter-widgets/base",
          "model_name": "LayoutModel",
          "state": {
            "_view_name": "LayoutView",
            "grid_template_rows": null,
            "right": null,
            "justify_content": null,
            "_view_module": "@jupyter-widgets/base",
            "overflow": null,
            "_model_module_version": "1.2.0",
            "_view_count": null,
            "flex_flow": null,
            "width": null,
            "min_width": null,
            "border": null,
            "align_items": null,
            "bottom": null,
            "_model_module": "@jupyter-widgets/base",
            "top": null,
            "grid_column": null,
            "overflow_y": null,
            "overflow_x": null,
            "grid_auto_flow": null,
            "grid_area": null,
            "grid_template_columns": null,
            "flex": null,
            "_model_name": "LayoutModel",
            "justify_items": null,
            "grid_row": null,
            "max_height": null,
            "align_content": null,
            "visibility": null,
            "align_self": null,
            "height": null,
            "min_height": null,
            "padding": null,
            "grid_auto_rows": null,
            "grid_gap": null,
            "max_width": null,
            "order": null,
            "_view_module_version": "1.2.0",
            "grid_template_areas": null,
            "object_position": null,
            "object_fit": null,
            "grid_auto_columns": null,
            "margin": null,
            "display": null,
            "left": null
          }
        },
        "c9375f7de1044a949e49d87cbf94fbb0": {
          "model_module": "@jupyter-widgets/controls",
          "model_name": "DescriptionStyleModel",
          "state": {
            "_view_name": "StyleView",
            "_model_name": "DescriptionStyleModel",
            "description_width": "",
            "_view_module": "@jupyter-widgets/base",
            "_model_module_version": "1.5.0",
            "_view_count": null,
            "_view_module_version": "1.2.0",
            "_model_module": "@jupyter-widgets/controls"
          }
        },
        "eeedc750c0bf4278a05ff68cc24d103e": {
          "model_module": "@jupyter-widgets/base",
          "model_name": "LayoutModel",
          "state": {
            "_view_name": "LayoutView",
            "grid_template_rows": null,
            "right": null,
            "justify_content": null,
            "_view_module": "@jupyter-widgets/base",
            "overflow": null,
            "_model_module_version": "1.2.0",
            "_view_count": null,
            "flex_flow": null,
            "width": null,
            "min_width": null,
            "border": null,
            "align_items": null,
            "bottom": null,
            "_model_module": "@jupyter-widgets/base",
            "top": null,
            "grid_column": null,
            "overflow_y": null,
            "overflow_x": null,
            "grid_auto_flow": null,
            "grid_area": null,
            "grid_template_columns": null,
            "flex": null,
            "_model_name": "LayoutModel",
            "justify_items": null,
            "grid_row": null,
            "max_height": null,
            "align_content": null,
            "visibility": null,
            "align_self": null,
            "height": null,
            "min_height": null,
            "padding": null,
            "grid_auto_rows": null,
            "grid_gap": null,
            "max_width": null,
            "order": null,
            "_view_module_version": "1.2.0",
            "grid_template_areas": null,
            "object_position": null,
            "object_fit": null,
            "grid_auto_columns": null,
            "margin": null,
            "display": null,
            "left": null
          }
        },
        "efa6a38ccd6345889433a9f32b869bdb": {
          "model_module": "@jupyter-widgets/controls",
          "model_name": "HBoxModel",
          "state": {
            "_view_name": "HBoxView",
            "_dom_classes": [],
            "_model_name": "HBoxModel",
            "_view_module": "@jupyter-widgets/controls",
            "_model_module_version": "1.5.0",
            "_view_count": null,
            "_view_module_version": "1.5.0",
            "box_style": "",
            "layout": "IPY_MODEL_30b5095e69ac46a88825fb17deb2f406",
            "_model_module": "@jupyter-widgets/controls",
            "children": [
              "IPY_MODEL_01a0c709831546b297374a55751d749e",
              "IPY_MODEL_297559a048ae4603ba26ae7be8416fa0"
            ]
          }
        },
        "30b5095e69ac46a88825fb17deb2f406": {
          "model_module": "@jupyter-widgets/base",
          "model_name": "LayoutModel",
          "state": {
            "_view_name": "LayoutView",
            "grid_template_rows": null,
            "right": null,
            "justify_content": null,
            "_view_module": "@jupyter-widgets/base",
            "overflow": null,
            "_model_module_version": "1.2.0",
            "_view_count": null,
            "flex_flow": null,
            "width": null,
            "min_width": null,
            "border": null,
            "align_items": null,
            "bottom": null,
            "_model_module": "@jupyter-widgets/base",
            "top": null,
            "grid_column": null,
            "overflow_y": null,
            "overflow_x": null,
            "grid_auto_flow": null,
            "grid_area": null,
            "grid_template_columns": null,
            "flex": null,
            "_model_name": "LayoutModel",
            "justify_items": null,
            "grid_row": null,
            "max_height": null,
            "align_content": null,
            "visibility": null,
            "align_self": null,
            "height": null,
            "min_height": null,
            "padding": null,
            "grid_auto_rows": null,
            "grid_gap": null,
            "max_width": null,
            "order": null,
            "_view_module_version": "1.2.0",
            "grid_template_areas": null,
            "object_position": null,
            "object_fit": null,
            "grid_auto_columns": null,
            "margin": null,
            "display": null,
            "left": null
          }
        },
        "01a0c709831546b297374a55751d749e": {
          "model_module": "@jupyter-widgets/controls",
          "model_name": "FloatProgressModel",
          "state": {
            "_view_name": "ProgressView",
            "style": "IPY_MODEL_502d3bd049cb4a89b1b83b7a5ee20f95",
            "_dom_classes": [],
            "description": "  0%",
            "_model_name": "FloatProgressModel",
            "bar_style": "info",
            "max": 1,
            "_view_module": "@jupyter-widgets/controls",
            "_model_module_version": "1.5.0",
            "value": 0,
            "_view_count": null,
            "_view_module_version": "1.5.0",
            "orientation": "horizontal",
            "min": 0,
            "description_tooltip": null,
            "_model_module": "@jupyter-widgets/controls",
            "layout": "IPY_MODEL_0c3a9c52b0ab4836947db53c60cf08ea"
          }
        },
        "297559a048ae4603ba26ae7be8416fa0": {
          "model_module": "@jupyter-widgets/controls",
          "model_name": "HTMLModel",
          "state": {
            "_view_name": "HTMLView",
            "style": "IPY_MODEL_8e26fa5b52894b51bbe55899309c3a77",
            "_dom_classes": [],
            "description": "",
            "_model_name": "HTMLModel",
            "placeholder": "​",
            "_view_module": "@jupyter-widgets/controls",
            "_model_module_version": "1.5.0",
            "value": " 0/4542 [00:00&lt;?, ?it/s]",
            "_view_count": null,
            "_view_module_version": "1.5.0",
            "description_tooltip": null,
            "_model_module": "@jupyter-widgets/controls",
            "layout": "IPY_MODEL_90d516af8fa747ccaed9ca2f802fc2ca"
          }
        },
        "502d3bd049cb4a89b1b83b7a5ee20f95": {
          "model_module": "@jupyter-widgets/controls",
          "model_name": "ProgressStyleModel",
          "state": {
            "_view_name": "StyleView",
            "_model_name": "ProgressStyleModel",
            "description_width": "initial",
            "_view_module": "@jupyter-widgets/base",
            "_model_module_version": "1.5.0",
            "_view_count": null,
            "_view_module_version": "1.2.0",
            "bar_color": null,
            "_model_module": "@jupyter-widgets/controls"
          }
        },
        "0c3a9c52b0ab4836947db53c60cf08ea": {
          "model_module": "@jupyter-widgets/base",
          "model_name": "LayoutModel",
          "state": {
            "_view_name": "LayoutView",
            "grid_template_rows": null,
            "right": null,
            "justify_content": null,
            "_view_module": "@jupyter-widgets/base",
            "overflow": null,
            "_model_module_version": "1.2.0",
            "_view_count": null,
            "flex_flow": null,
            "width": null,
            "min_width": null,
            "border": null,
            "align_items": null,
            "bottom": null,
            "_model_module": "@jupyter-widgets/base",
            "top": null,
            "grid_column": null,
            "overflow_y": null,
            "overflow_x": null,
            "grid_auto_flow": null,
            "grid_area": null,
            "grid_template_columns": null,
            "flex": null,
            "_model_name": "LayoutModel",
            "justify_items": null,
            "grid_row": null,
            "max_height": null,
            "align_content": null,
            "visibility": null,
            "align_self": null,
            "height": null,
            "min_height": null,
            "padding": null,
            "grid_auto_rows": null,
            "grid_gap": null,
            "max_width": null,
            "order": null,
            "_view_module_version": "1.2.0",
            "grid_template_areas": null,
            "object_position": null,
            "object_fit": null,
            "grid_auto_columns": null,
            "margin": null,
            "display": null,
            "left": null
          }
        },
        "8e26fa5b52894b51bbe55899309c3a77": {
          "model_module": "@jupyter-widgets/controls",
          "model_name": "DescriptionStyleModel",
          "state": {
            "_view_name": "StyleView",
            "_model_name": "DescriptionStyleModel",
            "description_width": "",
            "_view_module": "@jupyter-widgets/base",
            "_model_module_version": "1.5.0",
            "_view_count": null,
            "_view_module_version": "1.2.0",
            "_model_module": "@jupyter-widgets/controls"
          }
        },
        "90d516af8fa747ccaed9ca2f802fc2ca": {
          "model_module": "@jupyter-widgets/base",
          "model_name": "LayoutModel",
          "state": {
            "_view_name": "LayoutView",
            "grid_template_rows": null,
            "right": null,
            "justify_content": null,
            "_view_module": "@jupyter-widgets/base",
            "overflow": null,
            "_model_module_version": "1.2.0",
            "_view_count": null,
            "flex_flow": null,
            "width": null,
            "min_width": null,
            "border": null,
            "align_items": null,
            "bottom": null,
            "_model_module": "@jupyter-widgets/base",
            "top": null,
            "grid_column": null,
            "overflow_y": null,
            "overflow_x": null,
            "grid_auto_flow": null,
            "grid_area": null,
            "grid_template_columns": null,
            "flex": null,
            "_model_name": "LayoutModel",
            "justify_items": null,
            "grid_row": null,
            "max_height": null,
            "align_content": null,
            "visibility": null,
            "align_self": null,
            "height": null,
            "min_height": null,
            "padding": null,
            "grid_auto_rows": null,
            "grid_gap": null,
            "max_width": null,
            "order": null,
            "_view_module_version": "1.2.0",
            "grid_template_areas": null,
            "object_position": null,
            "object_fit": null,
            "grid_auto_columns": null,
            "margin": null,
            "display": null,
            "left": null
          }
        }
      }
    }
  },
  "cells": [
    {
      "cell_type": "code",
      "metadata": {
        "id": "UkQczkfjSqBB",
        "colab_type": "code",
        "colab": {}
      },
      "source": [
        "#dependencies\n",
        "import torch\n",
        "import torchvision\n",
        "from torchvision  import datasets,transforms"
      ],
      "execution_count": 2,
      "outputs": []
    },
    {
      "cell_type": "code",
      "metadata": {
        "id": "97LPyjAIGAO4",
        "colab_type": "code",
        "colab": {}
      },
      "source": [
        ""
      ],
      "execution_count": 3,
      "outputs": []
    },
    {
      "cell_type": "code",
      "metadata": {
        "id": "duCVqqJ8SuJy",
        "colab_type": "code",
        "colab": {
          "base_uri": "https://localhost:8080/",
          "height": 417,
          "referenced_widgets": [
            "278880e665b04d278663c856ee34ad83",
            "3c0f44d5fa4c4267a3aa2fe79d337231",
            "727607af820e48aba3a62e9bdf73f589",
            "183da83d0c6445299d2785f61be9b46d",
            "507709357228450c86ba5d1aad3b6871",
            "efbaca52f4f8453fa588a905b085cf6f",
            "f264f2a7dc0b46e6b2a08f6387b4e572",
            "3a263239c88c4f75868c91d6a2a5879e",
            "7cce967d76664534b1652ff5510169eb",
            "f986fda2fc1d4ed28a7e2456631c94af",
            "1c50f00b2da649dcbce2461c76caa9b5",
            "bd28acf18b1b4b0eb15c42277b8e6700",
            "5f2e8c81adbb4b0dad3e690fbe1577be",
            "96800a9201da4202bf37baaa5581689f",
            "963ebb19f53c460bb7c12da28d26907e",
            "db659aae703345aa9e75469762583f45",
            "acf6423c7bb94559a85be37652097f87",
            "667419cfe2ca416a8729f3249992952a",
            "4f107101578e405e900714c0b9d49830",
            "0dd254f73e8b41449baef91828493d06",
            "a8093bbd3cc64b28bd0b42ec99f58db2",
            "34d43f3057af42c29311f77723780f2b",
            "c9375f7de1044a949e49d87cbf94fbb0",
            "eeedc750c0bf4278a05ff68cc24d103e",
            "efa6a38ccd6345889433a9f32b869bdb",
            "30b5095e69ac46a88825fb17deb2f406",
            "01a0c709831546b297374a55751d749e",
            "297559a048ae4603ba26ae7be8416fa0",
            "502d3bd049cb4a89b1b83b7a5ee20f95",
            "0c3a9c52b0ab4836947db53c60cf08ea",
            "8e26fa5b52894b51bbe55899309c3a77",
            "90d516af8fa747ccaed9ca2f802fc2ca"
          ]
        },
        "outputId": "36301e21-0e1e-4627-bd3c-3482b1e0ec9c"
      },
      "source": [
        "#downloading the datset, here an inbuilt one.\n",
        "train=datasets.MNIST('',train=True,download=True,transform=transforms.Compose([transforms.ToTensor()]))\n",
        "test=train=datasets.MNIST('',train=False,download=True,transform=transforms.Compose([transforms.ToTensor()]))"
      ],
      "execution_count": 3,
      "outputs": [
        {
          "output_type": "stream",
          "text": [
            "Downloading http://yann.lecun.com/exdb/mnist/train-images-idx3-ubyte.gz to MNIST/raw/train-images-idx3-ubyte.gz\n"
          ],
          "name": "stdout"
        },
        {
          "output_type": "display_data",
          "data": {
            "application/vnd.jupyter.widget-view+json": {
              "model_id": "278880e665b04d278663c856ee34ad83",
              "version_minor": 0,
              "version_major": 2
            },
            "text/plain": [
              "HBox(children=(FloatProgress(value=1.0, bar_style='info', max=1.0), HTML(value='')))"
            ]
          },
          "metadata": {
            "tags": []
          }
        },
        {
          "output_type": "stream",
          "text": [
            "Extracting MNIST/raw/train-images-idx3-ubyte.gz to MNIST/raw\n",
            "Downloading http://yann.lecun.com/exdb/mnist/train-labels-idx1-ubyte.gz to MNIST/raw/train-labels-idx1-ubyte.gz\n"
          ],
          "name": "stdout"
        },
        {
          "output_type": "display_data",
          "data": {
            "application/vnd.jupyter.widget-view+json": {
              "model_id": "7cce967d76664534b1652ff5510169eb",
              "version_minor": 0,
              "version_major": 2
            },
            "text/plain": [
              "HBox(children=(FloatProgress(value=1.0, bar_style='info', max=1.0), HTML(value='')))"
            ]
          },
          "metadata": {
            "tags": []
          }
        },
        {
          "output_type": "stream",
          "text": [
            "Extracting MNIST/raw/train-labels-idx1-ubyte.gz to MNIST/raw\n",
            "Downloading http://yann.lecun.com/exdb/mnist/t10k-images-idx3-ubyte.gz to MNIST/raw/t10k-images-idx3-ubyte.gz\n"
          ],
          "name": "stdout"
        },
        {
          "output_type": "display_data",
          "data": {
            "application/vnd.jupyter.widget-view+json": {
              "model_id": "acf6423c7bb94559a85be37652097f87",
              "version_minor": 0,
              "version_major": 2
            },
            "text/plain": [
              "HBox(children=(FloatProgress(value=1.0, bar_style='info', max=1.0), HTML(value='')))"
            ]
          },
          "metadata": {
            "tags": []
          }
        },
        {
          "output_type": "stream",
          "text": [
            "Extracting MNIST/raw/t10k-images-idx3-ubyte.gz to MNIST/raw\n",
            "Downloading http://yann.lecun.com/exdb/mnist/t10k-labels-idx1-ubyte.gz to MNIST/raw/t10k-labels-idx1-ubyte.gz\n",
            "\n",
            "\n",
            "\n"
          ],
          "name": "stdout"
        },
        {
          "output_type": "display_data",
          "data": {
            "application/vnd.jupyter.widget-view+json": {
              "model_id": "efa6a38ccd6345889433a9f32b869bdb",
              "version_minor": 0,
              "version_major": 2
            },
            "text/plain": [
              "HBox(children=(FloatProgress(value=1.0, bar_style='info', max=1.0), HTML(value='')))"
            ]
          },
          "metadata": {
            "tags": []
          }
        },
        {
          "output_type": "stream",
          "text": [
            "Extracting MNIST/raw/t10k-labels-idx1-ubyte.gz to MNIST/raw\n",
            "Processing...\n",
            "Done!\n"
          ],
          "name": "stdout"
        },
        {
          "output_type": "stream",
          "text": [
            "/usr/local/lib/python3.6/dist-packages/torchvision/datasets/mnist.py:469: UserWarning: The given NumPy array is not writeable, and PyTorch does not support non-writeable tensors. This means you can write to the underlying (supposedly non-writeable) NumPy array using the tensor. You may want to copy the array to protect its data or make it writeable before converting it to a tensor. This type of warning will be suppressed for the rest of this program. (Triggered internally at  /pytorch/torch/csrc/utils/tensor_numpy.cpp:141.)\n",
            "  return torch.from_numpy(parsed.astype(m[2], copy=False)).view(*s)\n"
          ],
          "name": "stderr"
        }
      ]
    },
    {
      "cell_type": "code",
      "metadata": {
        "id": "KNk1MDtYSuGb",
        "colab_type": "code",
        "colab": {
          "base_uri": "https://localhost:8080/",
          "height": 151
        },
        "outputId": "81bdfd9a-e9a3-4961-b1b5-cdcbd6ff532d"
      },
      "source": [
        "train #running to see how exactly it looks like."
      ],
      "execution_count": 4,
      "outputs": [
        {
          "output_type": "execute_result",
          "data": {
            "text/plain": [
              "Dataset MNIST\n",
              "    Number of datapoints: 10000\n",
              "    Root location: \n",
              "    Split: Test\n",
              "    StandardTransform\n",
              "Transform: Compose(\n",
              "               ToTensor()\n",
              "           )"
            ]
          },
          "metadata": {
            "tags": []
          },
          "execution_count": 4
        }
      ]
    },
    {
      "cell_type": "code",
      "metadata": {
        "id": "alAARHIeSuD0",
        "colab_type": "code",
        "colab": {}
      },
      "source": [
        "training=torch.utils.data.DataLoader(train,batch_size=10,shuffle=True)\n",
        "testing=torch.utils.data.DataLoader(test,batch_size=10,shuffle=True)"
      ],
      "execution_count": 5,
      "outputs": []
    },
    {
      "cell_type": "code",
      "metadata": {
        "id": "qqwkqg6iSuBj",
        "colab_type": "code",
        "colab": {
          "base_uri": "https://localhost:8080/",
          "height": 34
        },
        "outputId": "6b18aac7-857f-460a-e1a4-e088dc6dbe4a"
      },
      "source": [
        "training #this is what it looks like"
      ],
      "execution_count": 6,
      "outputs": [
        {
          "output_type": "execute_result",
          "data": {
            "text/plain": [
              "<torch.utils.data.dataloader.DataLoader at 0x7f8bbcfd42b0>"
            ]
          },
          "metadata": {
            "tags": []
          },
          "execution_count": 6
        }
      ]
    },
    {
      "cell_type": "code",
      "metadata": {
        "id": "TKwhEk-7Ghr8",
        "colab_type": "code",
        "colab": {
          "base_uri": "https://localhost:8080/",
          "height": 941
        },
        "outputId": "6c3e8fab-0dfc-41b4-914f-8be341233e4c"
      },
      "source": [
        "for data in training:\n",
        "  print(data)\n",
        "  break"
      ],
      "execution_count": 7,
      "outputs": [
        {
          "output_type": "stream",
          "text": [
            "[tensor([[[[0., 0., 0.,  ..., 0., 0., 0.],\n",
            "          [0., 0., 0.,  ..., 0., 0., 0.],\n",
            "          [0., 0., 0.,  ..., 0., 0., 0.],\n",
            "          ...,\n",
            "          [0., 0., 0.,  ..., 0., 0., 0.],\n",
            "          [0., 0., 0.,  ..., 0., 0., 0.],\n",
            "          [0., 0., 0.,  ..., 0., 0., 0.]]],\n",
            "\n",
            "\n",
            "        [[[0., 0., 0.,  ..., 0., 0., 0.],\n",
            "          [0., 0., 0.,  ..., 0., 0., 0.],\n",
            "          [0., 0., 0.,  ..., 0., 0., 0.],\n",
            "          ...,\n",
            "          [0., 0., 0.,  ..., 0., 0., 0.],\n",
            "          [0., 0., 0.,  ..., 0., 0., 0.],\n",
            "          [0., 0., 0.,  ..., 0., 0., 0.]]],\n",
            "\n",
            "\n",
            "        [[[0., 0., 0.,  ..., 0., 0., 0.],\n",
            "          [0., 0., 0.,  ..., 0., 0., 0.],\n",
            "          [0., 0., 0.,  ..., 0., 0., 0.],\n",
            "          ...,\n",
            "          [0., 0., 0.,  ..., 0., 0., 0.],\n",
            "          [0., 0., 0.,  ..., 0., 0., 0.],\n",
            "          [0., 0., 0.,  ..., 0., 0., 0.]]],\n",
            "\n",
            "\n",
            "        ...,\n",
            "\n",
            "\n",
            "        [[[0., 0., 0.,  ..., 0., 0., 0.],\n",
            "          [0., 0., 0.,  ..., 0., 0., 0.],\n",
            "          [0., 0., 0.,  ..., 0., 0., 0.],\n",
            "          ...,\n",
            "          [0., 0., 0.,  ..., 0., 0., 0.],\n",
            "          [0., 0., 0.,  ..., 0., 0., 0.],\n",
            "          [0., 0., 0.,  ..., 0., 0., 0.]]],\n",
            "\n",
            "\n",
            "        [[[0., 0., 0.,  ..., 0., 0., 0.],\n",
            "          [0., 0., 0.,  ..., 0., 0., 0.],\n",
            "          [0., 0., 0.,  ..., 0., 0., 0.],\n",
            "          ...,\n",
            "          [0., 0., 0.,  ..., 0., 0., 0.],\n",
            "          [0., 0., 0.,  ..., 0., 0., 0.],\n",
            "          [0., 0., 0.,  ..., 0., 0., 0.]]],\n",
            "\n",
            "\n",
            "        [[[0., 0., 0.,  ..., 0., 0., 0.],\n",
            "          [0., 0., 0.,  ..., 0., 0., 0.],\n",
            "          [0., 0., 0.,  ..., 0., 0., 0.],\n",
            "          ...,\n",
            "          [0., 0., 0.,  ..., 0., 0., 0.],\n",
            "          [0., 0., 0.,  ..., 0., 0., 0.],\n",
            "          [0., 0., 0.,  ..., 0., 0., 0.]]]]), tensor([7, 7, 6, 6, 0, 5, 6, 2, 9, 2])]\n"
          ],
          "name": "stdout"
        }
      ]
    },
    {
      "cell_type": "code",
      "metadata": {
        "id": "FvIgVTTXGhoh",
        "colab_type": "code",
        "colab": {}
      },
      "source": [
        "x,y=data[0][1],data[1][1] \n",
        "#here x is the independent variable and y is the dependent varible\n",
        "#data[0] prints the first batch , data[0][1] prints the second element in the batch. "
      ],
      "execution_count": 8,
      "outputs": []
    },
    {
      "cell_type": "code",
      "metadata": {
        "id": "vgozmM00PYOK",
        "colab_type": "code",
        "colab": {
          "base_uri": "https://localhost:8080/",
          "height": 34
        },
        "outputId": "82bd2d40-5348-49f2-943d-066e2b539e8c"
      },
      "source": [
        "print(y) #prints 7"
      ],
      "execution_count": 9,
      "outputs": [
        {
          "output_type": "stream",
          "text": [
            "tensor(7)\n"
          ],
          "name": "stdout"
        }
      ]
    },
    {
      "cell_type": "code",
      "metadata": {
        "id": "yTJpHaSCPYUD",
        "colab_type": "code",
        "colab": {}
      },
      "source": [
        "import matplotlib.pyplot as plt"
      ],
      "execution_count": 10,
      "outputs": []
    },
    {
      "cell_type": "code",
      "metadata": {
        "id": "y-_eJKHIQhSr",
        "colab_type": "code",
        "colab": {
          "base_uri": "https://localhost:8080/",
          "height": 34
        },
        "outputId": "97b7c9e7-157d-471c-de4a-72e05e481a09"
      },
      "source": [
        "x.shape #here 1 stands for the number of channel\n",
        "#we won't be able to display it like that so will reshape it"
      ],
      "execution_count": 10,
      "outputs": [
        {
          "output_type": "execute_result",
          "data": {
            "text/plain": [
              "torch.Size([1, 28, 28])"
            ]
          },
          "metadata": {
            "tags": []
          },
          "execution_count": 10
        }
      ]
    },
    {
      "cell_type": "code",
      "metadata": {
        "id": "mjhCuk0ZQha6",
        "colab_type": "code",
        "colab": {
          "base_uri": "https://localhost:8080/",
          "height": 282
        },
        "outputId": "4779b451-673e-4c16-97ce-734c46a04bcf"
      },
      "source": [
        "plt.imshow(x.view(28,28)) #need to reshape it to this"
      ],
      "execution_count": 11,
      "outputs": [
        {
          "output_type": "execute_result",
          "data": {
            "text/plain": [
              "<matplotlib.image.AxesImage at 0x7f8bbc32b9b0>"
            ]
          },
          "metadata": {
            "tags": []
          },
          "execution_count": 11
        },
        {
          "output_type": "display_data",
          "data": {
            "image/png": "[encoded data removed]",
            "text/plain": [
              "<Figure size 432x288 with 1 Axes>"
            ]
          },
          "metadata": {
            "tags": [],
            "needs_background": "light"
          }
        }
      ]
    },
    {
      "cell_type": "code",
      "metadata": {
        "id": "UUx9nKG6QhXj",
        "colab_type": "code",
        "colab": {}
      },
      "source": [
        "import torch.nn as nn\n",
        "import torch.nn.functional as f"
      ],
      "execution_count": 12,
      "outputs": []
    },
    {
      "cell_type": "code",
      "metadata": {
        "id": "IOuXpC1oQhP6",
        "colab_type": "code",
        "colab": {
          "base_uri": "https://localhost:8080/",
          "height": 118
        },
        "outputId": "8bffe28d-1771-442a-c48b-ad9a405ff064"
      },
      "source": [
        "class Net(nn.Module):\n",
        "  def __init__(self):\n",
        "    super().__init__()\n",
        "    self.fc1=nn.Linear(28*28,64) #input layer (input1, output1)- input1 is 784=28*28 and 64 is output1 \n",
        "    self.fc2=nn.Linear(64,64) #hidden layer (input2=output1,output2)\n",
        "    self.fc3=nn.Linear(64,64) #hidden layer (input3=output2,output3)\n",
        "    self.fc4=nn.Linear(64,10) #output layer (input4=output3, output4)\n",
        "\n",
        "  def forward(self,x):\n",
        "    x=f.relu(self.fc1(x))\n",
        "    x=f.relu(self.fc2(x))\n",
        "    x=f.relu(self.fc3(x))\n",
        "    x=self.fc4(x)\n",
        "    return f.log_softmax(x,dim=1)\n",
        "    \n",
        "net=Net() #object initialisation\n",
        "print(net)"
      ],
      "execution_count": 13,
      "outputs": [
        {
          "output_type": "stream",
          "text": [
            "Net(\n",
            "  (fc1): Linear(in_features=784, out_features=64, bias=True)\n",
            "  (fc2): Linear(in_features=64, out_features=64, bias=True)\n",
            "  (fc3): Linear(in_features=64, out_features=64, bias=True)\n",
            "  (fc4): Linear(in_features=64, out_features=10, bias=True)\n",
            ")\n"
          ],
          "name": "stdout"
        }
      ]
    },
    {
      "cell_type": "code",
      "metadata": {
        "id": "aKGHOKhKgsrb",
        "colab_type": "code",
        "colab": {
          "base_uri": "https://localhost:8080/",
          "height": 1000
        },
        "outputId": "bf20b854-14a4-44b6-c7e9-a910fa774be2"
      },
      "source": [
        "X=torch.rand((28,28)) #randomly generating values\n",
        "X"
      ],
      "execution_count": 14,
      "outputs": [
        {
          "output_type": "execute_result",
          "data": {
            "text/plain": [
              "tensor([[6.0867e-01, 5.4577e-01, 3.7927e-01, 6.1327e-01, 4.6626e-01, 8.7568e-02,\n",
              "         4.2334e-02, 8.9840e-01, 8.0172e-01, 9.1401e-01, 9.7105e-01, 7.4222e-01,\n",
              "         8.6263e-01, 6.4146e-01, 5.1341e-01, 7.3399e-02, 3.4337e-01, 3.3014e-01,\n",
              "         9.4753e-01, 1.4738e-01, 8.4955e-01, 4.5171e-01, 6.4218e-01, 3.8943e-01,\n",
              "         1.5231e-01, 7.9997e-01, 1.5439e-01, 8.7933e-01],\n",
              "        [2.0356e-02, 4.3414e-01, 4.3387e-01, 7.8957e-01, 8.3840e-01, 3.6505e-01,\n",
              "         2.1178e-02, 5.2568e-01, 3.3096e-02, 6.6959e-01, 1.6417e-01, 1.0079e-01,\n",
              "         8.3489e-01, 2.8884e-01, 8.2804e-01, 9.4780e-01, 1.8658e-01, 9.3611e-01,\n",
              "         2.8459e-01, 2.9154e-01, 5.9030e-01, 4.6001e-01, 3.0005e-01, 8.6174e-01,\n",
              "         8.2252e-01, 8.8626e-01, 4.4166e-01, 4.3931e-01],\n",
              "        [6.5709e-01, 5.4519e-01, 8.2342e-01, 8.7987e-01, 3.2843e-01, 7.8405e-03,\n",
              "         4.9642e-01, 8.1398e-01, 1.3859e-01, 4.0075e-01, 9.2273e-01, 3.5416e-01,\n",
              "         4.1003e-01, 9.4987e-01, 3.8486e-01, 6.4754e-01, 5.0772e-01, 2.4556e-01,\n",
              "         8.1209e-01, 4.5799e-01, 6.0058e-01, 9.7893e-01, 3.7993e-01, 8.4674e-01,\n",
              "         6.6589e-01, 4.7563e-01, 6.7013e-01, 4.7846e-02],\n",
              "        [4.7058e-01, 8.8201e-01, 3.5904e-01, 8.2997e-01, 9.7869e-03, 8.8637e-01,\n",
              "         4.2704e-01, 5.3254e-01, 3.6658e-02, 8.1216e-01, 9.5034e-01, 2.9187e-01,\n",
              "         7.2907e-01, 5.1508e-02, 8.3279e-01, 2.1155e-02, 1.8899e-01, 2.2720e-01,\n",
              "         9.2880e-01, 6.7577e-01, 1.9983e-01, 5.0777e-02, 5.7829e-02, 2.8157e-01,\n",
              "         6.9986e-01, 6.3500e-02, 7.9743e-01, 9.5680e-01],\n",
              "        [5.0581e-01, 2.6458e-02, 7.6784e-01, 5.1678e-01, 1.4584e-01, 6.5050e-01,\n",
              "         5.8432e-01, 6.6392e-01, 6.0665e-01, 5.3403e-01, 4.5502e-01, 2.6633e-01,\n",
              "         9.4892e-01, 4.4667e-01, 9.9568e-01, 5.2154e-01, 1.1505e-01, 4.3902e-01,\n",
              "         5.8549e-01, 9.3465e-01, 1.4877e-01, 3.8160e-02, 2.8062e-01, 5.8801e-01,\n",
              "         9.8249e-01, 2.5663e-01, 8.0540e-01, 2.1208e-02],\n",
              "        [6.2762e-01, 8.2265e-01, 9.5876e-01, 3.5370e-01, 6.3686e-01, 6.1393e-01,\n",
              "         8.2170e-01, 2.6481e-01, 6.8429e-01, 9.7197e-01, 1.5045e-01, 4.5704e-01,\n",
              "         1.6378e-01, 8.0169e-01, 8.8257e-01, 7.1163e-01, 6.7687e-01, 1.2865e-01,\n",
              "         9.6183e-01, 2.6657e-01, 1.1384e-01, 6.7992e-01, 3.2863e-01, 3.0099e-01,\n",
              "         5.5447e-01, 2.1583e-04, 3.9915e-01, 7.1949e-01],\n",
              "        [7.2018e-01, 3.7532e-01, 4.8095e-01, 3.6997e-02, 5.1982e-01, 8.4456e-01,\n",
              "         2.2287e-01, 8.7052e-01, 2.5013e-01, 7.8649e-01, 7.6798e-01, 1.5909e-01,\n",
              "         5.2913e-01, 7.3454e-01, 9.4526e-01, 1.9030e-01, 6.0838e-01, 8.1970e-01,\n",
              "         7.0230e-02, 1.5986e-01, 4.8593e-01, 4.2023e-01, 7.6941e-01, 7.2755e-01,\n",
              "         6.8313e-02, 2.9252e-01, 8.6347e-01, 3.6294e-01],\n",
              "        [8.5969e-01, 6.5199e-02, 4.9589e-01, 2.6302e-01, 1.3715e-02, 2.8499e-01,\n",
              "         7.0895e-01, 7.9560e-01, 3.3791e-01, 6.0086e-02, 2.4055e-01, 3.9174e-01,\n",
              "         1.5628e-01, 8.4133e-01, 2.9137e-02, 1.8992e-02, 9.1509e-01, 8.8195e-01,\n",
              "         6.2848e-01, 8.8271e-01, 2.5935e-02, 2.9877e-01, 7.0740e-01, 4.1153e-02,\n",
              "         5.4032e-01, 5.1946e-01, 6.9366e-02, 2.0404e-01],\n",
              "        [7.2326e-01, 1.7842e-01, 8.9121e-01, 8.2752e-01, 1.5840e-01, 1.0018e-01,\n",
              "         7.8814e-01, 6.8241e-02, 9.8304e-02, 1.9749e-01, 1.3789e-01, 2.2084e-01,\n",
              "         4.8628e-01, 4.5211e-01, 8.9929e-01, 4.8685e-01, 9.1891e-02, 2.1831e-01,\n",
              "         1.0577e-01, 3.4577e-01, 9.8463e-01, 1.9895e-01, 2.3467e-01, 6.6961e-01,\n",
              "         4.5191e-02, 2.1972e-01, 2.4001e-02, 9.3346e-01],\n",
              "        [3.5753e-01, 9.7146e-01, 3.4917e-01, 6.7008e-01, 9.1886e-01, 3.8835e-01,\n",
              "         7.1304e-01, 1.6938e-01, 4.7121e-01, 3.6396e-01, 8.0377e-01, 9.6235e-01,\n",
              "         7.0590e-01, 8.8072e-01, 8.7044e-01, 3.6756e-01, 4.5450e-01, 1.2529e-01,\n",
              "         9.3589e-01, 4.9964e-01, 1.4801e-01, 2.7326e-01, 8.0223e-01, 3.1849e-01,\n",
              "         2.3722e-01, 8.6601e-01, 3.7705e-01, 8.5187e-01],\n",
              "        [5.8039e-01, 5.9982e-01, 8.3685e-01, 9.8034e-01, 6.0585e-01, 9.1011e-01,\n",
              "         9.8137e-01, 4.9209e-01, 1.0407e-01, 3.9927e-01, 1.6779e-01, 8.1770e-01,\n",
              "         1.5487e-01, 7.1052e-01, 6.6936e-01, 1.2037e-01, 6.1363e-04, 6.6069e-01,\n",
              "         8.6981e-01, 5.3429e-01, 3.2108e-01, 3.4656e-01, 6.0001e-01, 8.0222e-01,\n",
              "         3.9352e-01, 8.6160e-01, 2.1947e-01, 3.8118e-01],\n",
              "        [9.5614e-01, 1.2635e-01, 4.0652e-01, 4.0577e-01, 9.6428e-01, 9.2160e-01,\n",
              "         9.8942e-01, 4.5884e-01, 2.0088e-01, 1.3762e-01, 1.9325e-01, 9.9640e-01,\n",
              "         1.2637e-01, 3.2185e-01, 4.8106e-01, 4.6260e-01, 5.0609e-01, 5.4528e-01,\n",
              "         5.0218e-01, 1.0182e-01, 9.8201e-01, 8.9876e-01, 7.5599e-01, 8.6726e-01,\n",
              "         9.9583e-02, 4.6148e-01, 1.4792e-02, 5.7331e-01],\n",
              "        [4.8409e-01, 5.0560e-01, 7.3111e-01, 2.0348e-01, 2.0416e-01, 7.3644e-01,\n",
              "         3.6896e-01, 5.7968e-01, 3.0133e-01, 3.3134e-01, 8.1944e-01, 8.0944e-01,\n",
              "         2.3776e-01, 4.0306e-01, 2.3451e-02, 8.1808e-01, 9.5909e-01, 4.5419e-04,\n",
              "         7.6981e-01, 2.3739e-02, 1.5675e-01, 4.4250e-01, 3.0348e-01, 3.7377e-02,\n",
              "         4.1435e-01, 3.7518e-02, 3.9695e-01, 4.9242e-01],\n",
              "        [3.3709e-02, 8.3545e-02, 1.3088e-01, 2.4849e-01, 8.9300e-01, 2.7767e-01,\n",
              "         2.0121e-01, 3.5772e-01, 7.7297e-01, 3.6871e-01, 5.9358e-01, 1.9144e-01,\n",
              "         3.6245e-01, 7.0203e-01, 4.9592e-01, 1.4319e-01, 7.2899e-01, 3.9786e-01,\n",
              "         4.3009e-01, 2.2555e-01, 6.2740e-01, 4.1721e-01, 3.0375e-01, 5.6273e-01,\n",
              "         5.5460e-03, 4.3666e-01, 9.6061e-01, 4.6754e-01],\n",
              "        [9.9074e-01, 8.4779e-01, 5.7553e-01, 7.1661e-02, 9.2850e-01, 3.3075e-01,\n",
              "         4.6716e-01, 6.8325e-03, 1.1058e-01, 7.4801e-01, 8.0277e-01, 1.4612e-01,\n",
              "         4.7477e-01, 1.2865e-01, 2.1160e-01, 3.3577e-02, 4.6335e-01, 2.7884e-01,\n",
              "         1.9779e-01, 8.4220e-01, 2.4521e-01, 8.5505e-01, 2.9933e-01, 4.4093e-01,\n",
              "         1.8762e-01, 5.3975e-01, 9.9238e-01, 4.0065e-01],\n",
              "        [3.3415e-01, 7.4302e-01, 4.7070e-01, 9.5182e-01, 9.5143e-01, 8.1615e-01,\n",
              "         5.6848e-01, 2.8053e-01, 7.8717e-01, 5.2756e-01, 2.8113e-01, 9.6625e-01,\n",
              "         8.4130e-01, 9.9275e-01, 7.7841e-01, 8.8270e-01, 9.7602e-01, 7.2012e-01,\n",
              "         7.4251e-01, 3.7151e-01, 3.6823e-01, 7.0927e-01, 7.9248e-01, 7.8955e-01,\n",
              "         6.6564e-01, 4.7049e-01, 7.4873e-01, 5.7489e-01],\n",
              "        [9.4197e-01, 4.2259e-01, 4.6971e-02, 9.4707e-01, 9.2308e-01, 3.9143e-01,\n",
              "         9.7453e-01, 9.8926e-01, 8.9792e-01, 8.6554e-01, 2.0054e-01, 6.1870e-01,\n",
              "         6.8069e-01, 5.8463e-01, 7.4934e-01, 6.9569e-01, 6.5890e-01, 8.1862e-01,\n",
              "         2.3104e-01, 9.2456e-01, 8.8481e-01, 1.1235e-01, 7.7770e-01, 7.8426e-01,\n",
              "         5.7479e-01, 4.4328e-01, 5.4090e-01, 8.4050e-01],\n",
              "        [6.6352e-01, 9.3550e-01, 6.8789e-01, 5.9877e-01, 6.8606e-01, 5.1468e-01,\n",
              "         9.2696e-01, 9.9706e-01, 6.4231e-01, 8.5633e-01, 2.3133e-01, 3.0731e-01,\n",
              "         3.8261e-01, 7.8071e-01, 6.2704e-01, 7.8013e-01, 9.2394e-01, 9.6715e-01,\n",
              "         8.6476e-01, 9.7111e-02, 2.0059e-01, 9.5427e-01, 1.8523e-01, 1.7392e-01,\n",
              "         3.6120e-01, 5.4141e-01, 3.1381e-01, 4.2841e-01],\n",
              "        [6.0644e-01, 9.5559e-01, 4.3958e-01, 4.1203e-02, 7.0168e-01, 4.9386e-01,\n",
              "         4.0033e-01, 9.6143e-01, 6.5710e-01, 1.6923e-01, 8.1398e-02, 8.4222e-01,\n",
              "         5.5886e-01, 2.9147e-01, 8.6947e-01, 3.0932e-01, 8.3224e-01, 8.0309e-01,\n",
              "         2.5395e-01, 5.3636e-01, 8.1692e-01, 5.3521e-01, 5.0004e-01, 3.0699e-02,\n",
              "         9.6457e-01, 3.4459e-01, 4.6063e-01, 8.1454e-01],\n",
              "        [7.3318e-01, 1.4209e-01, 1.5996e-01, 7.3551e-01, 9.4264e-01, 8.3388e-01,\n",
              "         1.4337e-01, 5.9846e-01, 4.5286e-01, 2.5478e-01, 5.5947e-01, 9.6729e-01,\n",
              "         3.0497e-01, 6.8122e-02, 1.3679e-01, 7.3400e-01, 5.3383e-01, 1.1403e-01,\n",
              "         2.7095e-01, 4.4864e-01, 5.0906e-01, 5.7146e-01, 9.5868e-01, 9.0200e-01,\n",
              "         5.0777e-01, 1.9592e-01, 6.3943e-01, 9.2660e-01],\n",
              "        [3.6320e-01, 3.4444e-01, 9.5505e-01, 3.5134e-01, 1.2652e-01, 5.8805e-01,\n",
              "         7.8807e-01, 3.0077e-01, 8.5294e-01, 5.2761e-01, 7.3903e-01, 3.8756e-01,\n",
              "         4.3775e-01, 8.6289e-01, 9.5810e-01, 4.5547e-01, 2.2891e-01, 3.7698e-01,\n",
              "         9.2142e-01, 9.8873e-01, 8.4471e-01, 9.9130e-01, 8.4242e-01, 7.5515e-01,\n",
              "         7.5957e-03, 6.2626e-01, 9.2366e-01, 1.6499e-01],\n",
              "        [5.9649e-01, 6.4207e-01, 6.7737e-01, 6.3829e-01, 7.4383e-01, 5.1833e-01,\n",
              "         1.4483e-01, 8.3351e-01, 5.6283e-01, 1.3734e-01, 5.7977e-01, 2.6552e-01,\n",
              "         5.2388e-01, 3.0385e-01, 3.7811e-02, 5.9202e-01, 5.7620e-01, 2.7162e-01,\n",
              "         3.5288e-01, 2.6878e-01, 3.5357e-01, 3.1800e-01, 9.3605e-01, 4.4138e-01,\n",
              "         9.8409e-01, 2.1160e-01, 2.4667e-01, 8.1358e-01],\n",
              "        [4.4784e-01, 7.8695e-01, 2.1162e-01, 6.0746e-01, 4.7448e-01, 4.7507e-01,\n",
              "         3.7132e-01, 9.1436e-01, 3.1652e-01, 5.1441e-01, 5.6256e-01, 5.1747e-01,\n",
              "         7.5401e-01, 4.7201e-01, 6.6562e-01, 3.0470e-01, 7.7914e-01, 2.0366e-02,\n",
              "         1.7819e-01, 1.7114e-01, 7.3401e-01, 1.8370e-01, 2.8660e-01, 2.1319e-03,\n",
              "         8.3289e-02, 6.7937e-01, 4.2884e-01, 1.8253e-01],\n",
              "        [3.8971e-01, 1.5907e-01, 4.1221e-01, 9.3803e-01, 6.5391e-01, 8.8905e-01,\n",
              "         1.2141e-01, 5.6356e-01, 7.1646e-01, 8.2097e-01, 8.6013e-01, 3.4466e-01,\n",
              "         3.9837e-01, 7.5674e-01, 5.0290e-01, 8.2779e-02, 6.4315e-02, 5.6248e-01,\n",
              "         6.4891e-01, 7.8341e-01, 4.6516e-01, 7.6916e-01, 3.1539e-01, 9.5614e-01,\n",
              "         8.0693e-01, 9.4398e-01, 8.5706e-01, 8.8160e-02],\n",
              "        [5.6239e-01, 2.2634e-01, 9.6042e-01, 3.3781e-01, 3.4301e-01, 6.9806e-01,\n",
              "         3.0044e-01, 8.9042e-02, 5.2929e-01, 3.4401e-01, 2.0688e-01, 8.8412e-01,\n",
              "         4.8762e-02, 4.0582e-01, 9.3997e-01, 3.2588e-01, 6.3096e-01, 3.5696e-01,\n",
              "         6.1083e-01, 7.9633e-01, 8.2876e-01, 4.9787e-01, 8.8208e-01, 4.1097e-01,\n",
              "         2.8402e-02, 5.5977e-01, 8.2662e-01, 2.6939e-01],\n",
              "        [9.3030e-01, 7.3401e-01, 7.0028e-01, 5.0935e-01, 4.6876e-01, 9.4921e-01,\n",
              "         8.4870e-02, 8.0024e-01, 1.0880e-02, 1.6465e-01, 2.5861e-01, 6.7266e-01,\n",
              "         5.8857e-01, 7.6773e-01, 3.4279e-01, 3.6354e-01, 5.4686e-01, 4.0058e-02,\n",
              "         8.2678e-01, 6.3526e-01, 8.9746e-01, 3.3194e-01, 4.2897e-01, 1.0254e-01,\n",
              "         7.0653e-01, 2.6023e-01, 6.0065e-01, 7.8843e-01],\n",
              "        [1.7233e-02, 1.6341e-01, 6.8960e-01, 3.0688e-01, 6.3752e-01, 7.5026e-02,\n",
              "         9.3624e-01, 2.2377e-01, 7.9875e-01, 4.8284e-01, 3.1527e-01, 7.2775e-01,\n",
              "         1.5836e-01, 5.3193e-01, 2.1502e-01, 7.1356e-01, 4.2251e-01, 7.0444e-01,\n",
              "         9.5152e-01, 3.6771e-01, 1.6684e-01, 4.9646e-01, 4.7558e-01, 4.2135e-01,\n",
              "         7.2985e-01, 5.4476e-01, 4.3464e-01, 4.1901e-01],\n",
              "        [9.5272e-01, 5.4622e-01, 6.2312e-01, 5.0981e-01, 5.2580e-01, 8.7490e-01,\n",
              "         4.7998e-02, 2.9229e-01, 3.5190e-01, 2.5830e-02, 3.0727e-01, 5.0146e-02,\n",
              "         4.3629e-01, 1.5867e-01, 8.7894e-01, 7.0103e-01, 2.6198e-02, 9.7970e-01,\n",
              "         7.3801e-02, 5.1972e-01, 9.6533e-02, 9.0118e-02, 8.8232e-02, 5.7264e-01,\n",
              "         8.7111e-01, 3.5228e-01, 3.8068e-01, 3.6031e-01]])"
            ]
          },
          "metadata": {
            "tags": []
          },
          "execution_count": 14
        }
      ]
    },
    {
      "cell_type": "code",
      "metadata": {
        "id": "B0-mTKHBgso4",
        "colab_type": "code",
        "colab": {
          "base_uri": "https://localhost:8080/",
          "height": 1000
        },
        "outputId": "a51947de-c5c5-453e-e431-abf6356414fb"
      },
      "source": [
        "X=X.view(-1,28*28) #reshaping again to bring the dim of all the mat to an equal size\n",
        "X"
      ],
      "execution_count": 15,
      "outputs": [
        {
          "output_type": "execute_result",
          "data": {
            "text/plain": [
              "tensor([[6.0867e-01, 5.4577e-01, 3.7927e-01, 6.1327e-01, 4.6626e-01, 8.7568e-02,\n",
              "         4.2334e-02, 8.9840e-01, 8.0172e-01, 9.1401e-01, 9.7105e-01, 7.4222e-01,\n",
              "         8.6263e-01, 6.4146e-01, 5.1341e-01, 7.3399e-02, 3.4337e-01, 3.3014e-01,\n",
              "         9.4753e-01, 1.4738e-01, 8.4955e-01, 4.5171e-01, 6.4218e-01, 3.8943e-01,\n",
              "         1.5231e-01, 7.9997e-01, 1.5439e-01, 8.7933e-01, 2.0356e-02, 4.3414e-01,\n",
              "         4.3387e-01, 7.8957e-01, 8.3840e-01, 3.6505e-01, 2.1178e-02, 5.2568e-01,\n",
              "         3.3096e-02, 6.6959e-01, 1.6417e-01, 1.0079e-01, 8.3489e-01, 2.8884e-01,\n",
              "         8.2804e-01, 9.4780e-01, 1.8658e-01, 9.3611e-01, 2.8459e-01, 2.9154e-01,\n",
              "         5.9030e-01, 4.6001e-01, 3.0005e-01, 8.6174e-01, 8.2252e-01, 8.8626e-01,\n",
              "         4.4166e-01, 4.3931e-01, 6.5709e-01, 5.4519e-01, 8.2342e-01, 8.7987e-01,\n",
              "         3.2843e-01, 7.8405e-03, 4.9642e-01, 8.1398e-01, 1.3859e-01, 4.0075e-01,\n",
              "         9.2273e-01, 3.5416e-01, 4.1003e-01, 9.4987e-01, 3.8486e-01, 6.4754e-01,\n",
              "         5.0772e-01, 2.4556e-01, 8.1209e-01, 4.5799e-01, 6.0058e-01, 9.7893e-01,\n",
              "         3.7993e-01, 8.4674e-01, 6.6589e-01, 4.7563e-01, 6.7013e-01, 4.7846e-02,\n",
              "         4.7058e-01, 8.8201e-01, 3.5904e-01, 8.2997e-01, 9.7869e-03, 8.8637e-01,\n",
              "         4.2704e-01, 5.3254e-01, 3.6658e-02, 8.1216e-01, 9.5034e-01, 2.9187e-01,\n",
              "         7.2907e-01, 5.1508e-02, 8.3279e-01, 2.1155e-02, 1.8899e-01, 2.2720e-01,\n",
              "         9.2880e-01, 6.7577e-01, 1.9983e-01, 5.0777e-02, 5.7829e-02, 2.8157e-01,\n",
              "         6.9986e-01, 6.3500e-02, 7.9743e-01, 9.5680e-01, 5.0581e-01, 2.6458e-02,\n",
              "         7.6784e-01, 5.1678e-01, 1.4584e-01, 6.5050e-01, 5.8432e-01, 6.6392e-01,\n",
              "         6.0665e-01, 5.3403e-01, 4.5502e-01, 2.6633e-01, 9.4892e-01, 4.4667e-01,\n",
              "         9.9568e-01, 5.2154e-01, 1.1505e-01, 4.3902e-01, 5.8549e-01, 9.3465e-01,\n",
              "         1.4877e-01, 3.8160e-02, 2.8062e-01, 5.8801e-01, 9.8249e-01, 2.5663e-01,\n",
              "         8.0540e-01, 2.1208e-02, 6.2762e-01, 8.2265e-01, 9.5876e-01, 3.5370e-01,\n",
              "         6.3686e-01, 6.1393e-01, 8.2170e-01, 2.6481e-01, 6.8429e-01, 9.7197e-01,\n",
              "         1.5045e-01, 4.5704e-01, 1.6378e-01, 8.0169e-01, 8.8257e-01, 7.1163e-01,\n",
              "         6.7687e-01, 1.2865e-01, 9.6183e-01, 2.6657e-01, 1.1384e-01, 6.7992e-01,\n",
              "         3.2863e-01, 3.0099e-01, 5.5447e-01, 2.1583e-04, 3.9915e-01, 7.1949e-01,\n",
              "         7.2018e-01, 3.7532e-01, 4.8095e-01, 3.6997e-02, 5.1982e-01, 8.4456e-01,\n",
              "         2.2287e-01, 8.7052e-01, 2.5013e-01, 7.8649e-01, 7.6798e-01, 1.5909e-01,\n",
              "         5.2913e-01, 7.3454e-01, 9.4526e-01, 1.9030e-01, 6.0838e-01, 8.1970e-01,\n",
              "         7.0230e-02, 1.5986e-01, 4.8593e-01, 4.2023e-01, 7.6941e-01, 7.2755e-01,\n",
              "         6.8313e-02, 2.9252e-01, 8.6347e-01, 3.6294e-01, 8.5969e-01, 6.5199e-02,\n",
              "         4.9589e-01, 2.6302e-01, 1.3715e-02, 2.8499e-01, 7.0895e-01, 7.9560e-01,\n",
              "         3.3791e-01, 6.0086e-02, 2.4055e-01, 3.9174e-01, 1.5628e-01, 8.4133e-01,\n",
              "         2.9137e-02, 1.8992e-02, 9.1509e-01, 8.8195e-01, 6.2848e-01, 8.8271e-01,\n",
              "         2.5935e-02, 2.9877e-01, 7.0740e-01, 4.1153e-02, 5.4032e-01, 5.1946e-01,\n",
              "         6.9366e-02, 2.0404e-01, 7.2326e-01, 1.7842e-01, 8.9121e-01, 8.2752e-01,\n",
              "         1.5840e-01, 1.0018e-01, 7.8814e-01, 6.8241e-02, 9.8304e-02, 1.9749e-01,\n",
              "         1.3789e-01, 2.2084e-01, 4.8628e-01, 4.5211e-01, 8.9929e-01, 4.8685e-01,\n",
              "         9.1891e-02, 2.1831e-01, 1.0577e-01, 3.4577e-01, 9.8463e-01, 1.9895e-01,\n",
              "         2.3467e-01, 6.6961e-01, 4.5191e-02, 2.1972e-01, 2.4001e-02, 9.3346e-01,\n",
              "         3.5753e-01, 9.7146e-01, 3.4917e-01, 6.7008e-01, 9.1886e-01, 3.8835e-01,\n",
              "         7.1304e-01, 1.6938e-01, 4.7121e-01, 3.6396e-01, 8.0377e-01, 9.6235e-01,\n",
              "         7.0590e-01, 8.8072e-01, 8.7044e-01, 3.6756e-01, 4.5450e-01, 1.2529e-01,\n",
              "         9.3589e-01, 4.9964e-01, 1.4801e-01, 2.7326e-01, 8.0223e-01, 3.1849e-01,\n",
              "         2.3722e-01, 8.6601e-01, 3.7705e-01, 8.5187e-01, 5.8039e-01, 5.9982e-01,\n",
              "         8.3685e-01, 9.8034e-01, 6.0585e-01, 9.1011e-01, 9.8137e-01, 4.9209e-01,\n",
              "         1.0407e-01, 3.9927e-01, 1.6779e-01, 8.1770e-01, 1.5487e-01, 7.1052e-01,\n",
              "         6.6936e-01, 1.2037e-01, 6.1363e-04, 6.6069e-01, 8.6981e-01, 5.3429e-01,\n",
              "         3.2108e-01, 3.4656e-01, 6.0001e-01, 8.0222e-01, 3.9352e-01, 8.6160e-01,\n",
              "         2.1947e-01, 3.8118e-01, 9.5614e-01, 1.2635e-01, 4.0652e-01, 4.0577e-01,\n",
              "         9.6428e-01, 9.2160e-01, 9.8942e-01, 4.5884e-01, 2.0088e-01, 1.3762e-01,\n",
              "         1.9325e-01, 9.9640e-01, 1.2637e-01, 3.2185e-01, 4.8106e-01, 4.6260e-01,\n",
              "         5.0609e-01, 5.4528e-01, 5.0218e-01, 1.0182e-01, 9.8201e-01, 8.9876e-01,\n",
              "         7.5599e-01, 8.6726e-01, 9.9583e-02, 4.6148e-01, 1.4792e-02, 5.7331e-01,\n",
              "         4.8409e-01, 5.0560e-01, 7.3111e-01, 2.0348e-01, 2.0416e-01, 7.3644e-01,\n",
              "         3.6896e-01, 5.7968e-01, 3.0133e-01, 3.3134e-01, 8.1944e-01, 8.0944e-01,\n",
              "         2.3776e-01, 4.0306e-01, 2.3451e-02, 8.1808e-01, 9.5909e-01, 4.5419e-04,\n",
              "         7.6981e-01, 2.3739e-02, 1.5675e-01, 4.4250e-01, 3.0348e-01, 3.7377e-02,\n",
              "         4.1435e-01, 3.7518e-02, 3.9695e-01, 4.9242e-01, 3.3709e-02, 8.3545e-02,\n",
              "         1.3088e-01, 2.4849e-01, 8.9300e-01, 2.7767e-01, 2.0121e-01, 3.5772e-01,\n",
              "         7.7297e-01, 3.6871e-01, 5.9358e-01, 1.9144e-01, 3.6245e-01, 7.0203e-01,\n",
              "         4.9592e-01, 1.4319e-01, 7.2899e-01, 3.9786e-01, 4.3009e-01, 2.2555e-01,\n",
              "         6.2740e-01, 4.1721e-01, 3.0375e-01, 5.6273e-01, 5.5460e-03, 4.3666e-01,\n",
              "         9.6061e-01, 4.6754e-01, 9.9074e-01, 8.4779e-01, 5.7553e-01, 7.1661e-02,\n",
              "         9.2850e-01, 3.3075e-01, 4.6716e-01, 6.8325e-03, 1.1058e-01, 7.4801e-01,\n",
              "         8.0277e-01, 1.4612e-01, 4.7477e-01, 1.2865e-01, 2.1160e-01, 3.3577e-02,\n",
              "         4.6335e-01, 2.7884e-01, 1.9779e-01, 8.4220e-01, 2.4521e-01, 8.5505e-01,\n",
              "         2.9933e-01, 4.4093e-01, 1.8762e-01, 5.3975e-01, 9.9238e-01, 4.0065e-01,\n",
              "         3.3415e-01, 7.4302e-01, 4.7070e-01, 9.5182e-01, 9.5143e-01, 8.1615e-01,\n",
              "         5.6848e-01, 2.8053e-01, 7.8717e-01, 5.2756e-01, 2.8113e-01, 9.6625e-01,\n",
              "         8.4130e-01, 9.9275e-01, 7.7841e-01, 8.8270e-01, 9.7602e-01, 7.2012e-01,\n",
              "         7.4251e-01, 3.7151e-01, 3.6823e-01, 7.0927e-01, 7.9248e-01, 7.8955e-01,\n",
              "         6.6564e-01, 4.7049e-01, 7.4873e-01, 5.7489e-01, 9.4197e-01, 4.2259e-01,\n",
              "         4.6971e-02, 9.4707e-01, 9.2308e-01, 3.9143e-01, 9.7453e-01, 9.8926e-01,\n",
              "         8.9792e-01, 8.6554e-01, 2.0054e-01, 6.1870e-01, 6.8069e-01, 5.8463e-01,\n",
              "         7.4934e-01, 6.9569e-01, 6.5890e-01, 8.1862e-01, 2.3104e-01, 9.2456e-01,\n",
              "         8.8481e-01, 1.1235e-01, 7.7770e-01, 7.8426e-01, 5.7479e-01, 4.4328e-01,\n",
              "         5.4090e-01, 8.4050e-01, 6.6352e-01, 9.3550e-01, 6.8789e-01, 5.9877e-01,\n",
              "         6.8606e-01, 5.1468e-01, 9.2696e-01, 9.9706e-01, 6.4231e-01, 8.5633e-01,\n",
              "         2.3133e-01, 3.0731e-01, 3.8261e-01, 7.8071e-01, 6.2704e-01, 7.8013e-01,\n",
              "         9.2394e-01, 9.6715e-01, 8.6476e-01, 9.7111e-02, 2.0059e-01, 9.5427e-01,\n",
              "         1.8523e-01, 1.7392e-01, 3.6120e-01, 5.4141e-01, 3.1381e-01, 4.2841e-01,\n",
              "         6.0644e-01, 9.5559e-01, 4.3958e-01, 4.1203e-02, 7.0168e-01, 4.9386e-01,\n",
              "         4.0033e-01, 9.6143e-01, 6.5710e-01, 1.6923e-01, 8.1398e-02, 8.4222e-01,\n",
              "         5.5886e-01, 2.9147e-01, 8.6947e-01, 3.0932e-01, 8.3224e-01, 8.0309e-01,\n",
              "         2.5395e-01, 5.3636e-01, 8.1692e-01, 5.3521e-01, 5.0004e-01, 3.0699e-02,\n",
              "         9.6457e-01, 3.4459e-01, 4.6063e-01, 8.1454e-01, 7.3318e-01, 1.4209e-01,\n",
              "         1.5996e-01, 7.3551e-01, 9.4264e-01, 8.3388e-01, 1.4337e-01, 5.9846e-01,\n",
              "         4.5286e-01, 2.5478e-01, 5.5947e-01, 9.6729e-01, 3.0497e-01, 6.8122e-02,\n",
              "         1.3679e-01, 7.3400e-01, 5.3383e-01, 1.1403e-01, 2.7095e-01, 4.4864e-01,\n",
              "         5.0906e-01, 5.7146e-01, 9.5868e-01, 9.0200e-01, 5.0777e-01, 1.9592e-01,\n",
              "         6.3943e-01, 9.2660e-01, 3.6320e-01, 3.4444e-01, 9.5505e-01, 3.5134e-01,\n",
              "         1.2652e-01, 5.8805e-01, 7.8807e-01, 3.0077e-01, 8.5294e-01, 5.2761e-01,\n",
              "         7.3903e-01, 3.8756e-01, 4.3775e-01, 8.6289e-01, 9.5810e-01, 4.5547e-01,\n",
              "         2.2891e-01, 3.7698e-01, 9.2142e-01, 9.8873e-01, 8.4471e-01, 9.9130e-01,\n",
              "         8.4242e-01, 7.5515e-01, 7.5957e-03, 6.2626e-01, 9.2366e-01, 1.6499e-01,\n",
              "         5.9649e-01, 6.4207e-01, 6.7737e-01, 6.3829e-01, 7.4383e-01, 5.1833e-01,\n",
              "         1.4483e-01, 8.3351e-01, 5.6283e-01, 1.3734e-01, 5.7977e-01, 2.6552e-01,\n",
              "         5.2388e-01, 3.0385e-01, 3.7811e-02, 5.9202e-01, 5.7620e-01, 2.7162e-01,\n",
              "         3.5288e-01, 2.6878e-01, 3.5357e-01, 3.1800e-01, 9.3605e-01, 4.4138e-01,\n",
              "         9.8409e-01, 2.1160e-01, 2.4667e-01, 8.1358e-01, 4.4784e-01, 7.8695e-01,\n",
              "         2.1162e-01, 6.0746e-01, 4.7448e-01, 4.7507e-01, 3.7132e-01, 9.1436e-01,\n",
              "         3.1652e-01, 5.1441e-01, 5.6256e-01, 5.1747e-01, 7.5401e-01, 4.7201e-01,\n",
              "         6.6562e-01, 3.0470e-01, 7.7914e-01, 2.0366e-02, 1.7819e-01, 1.7114e-01,\n",
              "         7.3401e-01, 1.8370e-01, 2.8660e-01, 2.1319e-03, 8.3289e-02, 6.7937e-01,\n",
              "         4.2884e-01, 1.8253e-01, 3.8971e-01, 1.5907e-01, 4.1221e-01, 9.3803e-01,\n",
              "         6.5391e-01, 8.8905e-01, 1.2141e-01, 5.6356e-01, 7.1646e-01, 8.2097e-01,\n",
              "         8.6013e-01, 3.4466e-01, 3.9837e-01, 7.5674e-01, 5.0290e-01, 8.2779e-02,\n",
              "         6.4315e-02, 5.6248e-01, 6.4891e-01, 7.8341e-01, 4.6516e-01, 7.6916e-01,\n",
              "         3.1539e-01, 9.5614e-01, 8.0693e-01, 9.4398e-01, 8.5706e-01, 8.8160e-02,\n",
              "         5.6239e-01, 2.2634e-01, 9.6042e-01, 3.3781e-01, 3.4301e-01, 6.9806e-01,\n",
              "         3.0044e-01, 8.9042e-02, 5.2929e-01, 3.4401e-01, 2.0688e-01, 8.8412e-01,\n",
              "         4.8762e-02, 4.0582e-01, 9.3997e-01, 3.2588e-01, 6.3096e-01, 3.5696e-01,\n",
              "         6.1083e-01, 7.9633e-01, 8.2876e-01, 4.9787e-01, 8.8208e-01, 4.1097e-01,\n",
              "         2.8402e-02, 5.5977e-01, 8.2662e-01, 2.6939e-01, 9.3030e-01, 7.3401e-01,\n",
              "         7.0028e-01, 5.0935e-01, 4.6876e-01, 9.4921e-01, 8.4870e-02, 8.0024e-01,\n",
              "         1.0880e-02, 1.6465e-01, 2.5861e-01, 6.7266e-01, 5.8857e-01, 7.6773e-01,\n",
              "         3.4279e-01, 3.6354e-01, 5.4686e-01, 4.0058e-02, 8.2678e-01, 6.3526e-01,\n",
              "         8.9746e-01, 3.3194e-01, 4.2897e-01, 1.0254e-01, 7.0653e-01, 2.6023e-01,\n",
              "         6.0065e-01, 7.8843e-01, 1.7233e-02, 1.6341e-01, 6.8960e-01, 3.0688e-01,\n",
              "         6.3752e-01, 7.5026e-02, 9.3624e-01, 2.2377e-01, 7.9875e-01, 4.8284e-01,\n",
              "         3.1527e-01, 7.2775e-01, 1.5836e-01, 5.3193e-01, 2.1502e-01, 7.1356e-01,\n",
              "         4.2251e-01, 7.0444e-01, 9.5152e-01, 3.6771e-01, 1.6684e-01, 4.9646e-01,\n",
              "         4.7558e-01, 4.2135e-01, 7.2985e-01, 5.4476e-01, 4.3464e-01, 4.1901e-01,\n",
              "         9.5272e-01, 5.4622e-01, 6.2312e-01, 5.0981e-01, 5.2580e-01, 8.7490e-01,\n",
              "         4.7998e-02, 2.9229e-01, 3.5190e-01, 2.5830e-02, 3.0727e-01, 5.0146e-02,\n",
              "         4.3629e-01, 1.5867e-01, 8.7894e-01, 7.0103e-01, 2.6198e-02, 9.7970e-01,\n",
              "         7.3801e-02, 5.1972e-01, 9.6533e-02, 9.0118e-02, 8.8232e-02, 5.7264e-01,\n",
              "         8.7111e-01, 3.5228e-01, 3.8068e-01, 3.6031e-01]])"
            ]
          },
          "metadata": {
            "tags": []
          },
          "execution_count": 15
        }
      ]
    },
    {
      "cell_type": "code",
      "metadata": {
        "id": "G_hkGykiPYLS",
        "colab_type": "code",
        "colab": {
          "base_uri": "https://localhost:8080/",
          "height": 50
        },
        "outputId": "24143fb0-214a-4d9b-c500-588b6a6a180f"
      },
      "source": [
        "output=net(X)\n",
        "output"
      ],
      "execution_count": 16,
      "outputs": [
        {
          "output_type": "execute_result",
          "data": {
            "text/plain": [
              "tensor([[-2.2467, -2.3657, -2.2949, -2.2053, -2.2273, -2.2394, -2.4068, -2.4511,\n",
              "         -2.2910, -2.3273]], grad_fn=<LogSoftmaxBackward>)"
            ]
          },
          "metadata": {
            "tags": []
          },
          "execution_count": 16
        }
      ]
    },
    {
      "cell_type": "code",
      "metadata": {
        "id": "to8qBotFOslx",
        "colab_type": "code",
        "colab": {
          "base_uri": "https://localhost:8080/",
          "height": 101
        },
        "outputId": "acad379c-eb6f-4a94-ad64-4d2a96a70fda"
      },
      "source": [
        "import torch.optim as optim\n",
        "\n",
        "optimizer=optim.Adam(net.parameters(),lr=10**-3) #stagnant lr here; in most cases it is a decaying lr\n",
        "epochs=5\n",
        "\n",
        "for epoch in range(epochs):\n",
        "  for data in training:\n",
        "    X,y=data\n",
        "    net.zero_grad()\n",
        "    output=net(X.view(-1,28*28))\n",
        "    loss=f.nll_loss(output,y)\n",
        "    loss.backward()\n",
        "    optimizer.step() #adjusting weights for us\n",
        "  print(loss)"
      ],
      "execution_count": 17,
      "outputs": [
        {
          "output_type": "stream",
          "text": [
            "tensor(0.0536, grad_fn=<NllLossBackward>)\n",
            "tensor(0.3672, grad_fn=<NllLossBackward>)\n",
            "tensor(0.0079, grad_fn=<NllLossBackward>)\n",
            "tensor(0.4326, grad_fn=<NllLossBackward>)\n",
            "tensor(0.1691, grad_fn=<NllLossBackward>)\n"
          ],
          "name": "stdout"
        }
      ]
    },
    {
      "cell_type": "code",
      "metadata": {
        "id": "aaOKoJQiOs5H",
        "colab_type": "code",
        "colab": {
          "base_uri": "https://localhost:8080/",
          "height": 34
        },
        "outputId": "17326b84-f692-4058-b7af-9751f16a5a47"
      },
      "source": [
        "correct=0\n",
        "total=0\n",
        "\n",
        "with torch.no_grad():\n",
        "  for data in training:\n",
        "    X,y=data\n",
        "    output=net(X.view(-1,784))\n",
        "    for index,i in enumerate(output): #enumerate is used to add a counting value\n",
        "      if torch.argmax(i)==y[index]:\n",
        "        correct+=1\n",
        "      total+=1\n",
        "print('Accuracy:',round(correct/total,3)) #rounding it to 3 decimal places.\n"
      ],
      "execution_count": 18,
      "outputs": [
        {
          "output_type": "stream",
          "text": [
            "Accuracy: 0.962\n"
          ],
          "name": "stdout"
        }
      ]
    },
    {
      "cell_type": "code",
      "metadata": {
        "id": "vPua_A58Ossc",
        "colab_type": "code",
        "colab": {
          "base_uri": "https://localhost:8080/",
          "height": 282
        },
        "outputId": "a2160867-f59d-4be0-fd89-5a4c6c731b02"
      },
      "source": [
        "plt.imshow(X[0].view(28,28)) #x and X are different. "
      ],
      "execution_count": 19,
      "outputs": [
        {
          "output_type": "execute_result",
          "data": {
            "text/plain": [
              "<matplotlib.image.AxesImage at 0x7f8bbbdff6a0>"
            ]
          },
          "metadata": {
            "tags": []
          },
          "execution_count": 19
        },
        {
          "output_type": "display_data",
          "data": {
            "image/png": "[encoded data removed]",
            "text/plain": [
              "<Figure size 432x288 with 1 Axes>"
            ]
          },
          "metadata": {
            "tags": [],
            "needs_background": "light"
          }
        }
      ]
    },
    {
      "cell_type": "code",
      "metadata": {
        "id": "u67go_ZzOsd7",
        "colab_type": "code",
        "colab": {
          "base_uri": "https://localhost:8080/",
          "height": 34
        },
        "outputId": "27eb3e50-ca5a-41c7-9bb5-51ce7dda5c22"
      },
      "source": [
        "print(torch.argmax(net(X[0].view(-1,28*28))[0])) #predicting the outcome."
      ],
      "execution_count": 20,
      "outputs": [
        {
          "output_type": "stream",
          "text": [
            "tensor(2)\n"
          ],
          "name": "stdout"
        }
      ]
    },
    {
      "cell_type": "code",
      "metadata": {
        "id": "_xMXYhRZSkvt",
        "colab_type": "code",
        "colab": {}
      },
      "source": [
        ""
      ],
      "execution_count": null,
      "outputs": []
    },
    {
      "cell_type": "code",
      "metadata": {
        "id": "YFHGVdnPSksD",
        "colab_type": "code",
        "colab": {}
      },
      "source": [
        ""
      ],
      "execution_count": null,
      "outputs": []
    }
  ]
}