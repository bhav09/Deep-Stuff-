{
 "cells": [
  {
   "cell_type": "code",
   "execution_count": 1,
   "metadata": {},
   "outputs": [],
   "source": [
    "#dependencies\n",
    "import numpy as np\n",
    "import pandas as pd\n",
    "import torch\n",
    "import matplotlib.pyplot as plt"
   ]
  },
  {
   "cell_type": "code",
   "execution_count": 2,
   "metadata": {},
   "outputs": [],
   "source": [
    "path='D:/Data Science/Machine Learning/../Simple Linear Regression/'\n",
    "df=pd.read_csv(path+'Salary_Data.csv')"
   ]
  },
  {
   "cell_type": "code",
   "execution_count": 3,
   "metadata": {},
   "outputs": [
    {
     "data": {
      "text/html": [
       "<div>\n",
       "<style scoped>\n",
       "    .dataframe tbody tr th:only-of-type {\n",
       "        vertical-align: middle;\n",
       "    }\n",
       "\n",
       "    .dataframe tbody tr th {\n",
       "        vertical-align: top;\n",
       "    }\n",
       "\n",
       "    .dataframe thead th {\n",
       "        text-align: right;\n",
       "    }\n",
       "</style>\n",
       "<table border=\"1\" class=\"dataframe\">\n",
       "  <thead>\n",
       "    <tr style=\"text-align: right;\">\n",
       "      <th></th>\n",
       "      <th>YearsExperience</th>\n",
       "      <th>Salary</th>\n",
       "    </tr>\n",
       "  </thead>\n",
       "  <tbody>\n",
       "    <tr>\n",
       "      <th>0</th>\n",
       "      <td>1.1</td>\n",
       "      <td>39343.0</td>\n",
       "    </tr>\n",
       "    <tr>\n",
       "      <th>1</th>\n",
       "      <td>1.3</td>\n",
       "      <td>46205.0</td>\n",
       "    </tr>\n",
       "    <tr>\n",
       "      <th>2</th>\n",
       "      <td>1.5</td>\n",
       "      <td>37731.0</td>\n",
       "    </tr>\n",
       "    <tr>\n",
       "      <th>3</th>\n",
       "      <td>2.0</td>\n",
       "      <td>43525.0</td>\n",
       "    </tr>\n",
       "    <tr>\n",
       "      <th>4</th>\n",
       "      <td>2.2</td>\n",
       "      <td>39891.0</td>\n",
       "    </tr>\n",
       "  </tbody>\n",
       "</table>\n",
       "</div>"
      ],
      "text/plain": [
       "   YearsExperience   Salary\n",
       "0              1.1  39343.0\n",
       "1              1.3  46205.0\n",
       "2              1.5  37731.0\n",
       "3              2.0  43525.0\n",
       "4              2.2  39891.0"
      ]
     },
     "execution_count": 3,
     "metadata": {},
     "output_type": "execute_result"
    }
   ],
   "source": [
    "df.head()"
   ]
  },
  {
   "cell_type": "code",
   "execution_count": 4,
   "metadata": {},
   "outputs": [],
   "source": [
    "x=df.iloc[:,0].values #independent variable\n",
    "y=df.iloc[:,1].values #dependent variable"
   ]
  },
  {
   "cell_type": "code",
   "execution_count": 5,
   "metadata": {},
   "outputs": [],
   "source": [
    "x,y=torch.from_numpy(x),torch.from_numpy(y)"
   ]
  },
  {
   "cell_type": "code",
   "execution_count": 6,
   "metadata": {},
   "outputs": [
    {
     "name": "stdout",
     "output_type": "stream",
     "text": [
      "tensor([ 1.1000,  1.3000,  1.5000,  2.0000,  2.2000,  2.9000,  3.0000,  3.2000,\n",
      "         3.2000,  3.7000,  3.9000,  4.0000,  4.0000,  4.1000,  4.5000,  4.9000,\n",
      "         5.1000,  5.3000,  5.9000,  6.0000,  6.8000,  7.1000,  7.9000,  8.2000,\n",
      "         8.7000,  9.0000,  9.5000,  9.6000, 10.3000, 10.5000],\n",
      "       dtype=torch.float64)\n"
     ]
    }
   ],
   "source": [
    "print(x)"
   ]
  },
  {
   "cell_type": "code",
   "execution_count": 7,
   "metadata": {},
   "outputs": [
    {
     "name": "stdout",
     "output_type": "stream",
     "text": [
      "tensor([ 39343.,  46205.,  37731.,  43525.,  39891.,  56642.,  60150.,  54445.,\n",
      "         64445.,  57189.,  63218.,  55794.,  56957.,  57081.,  61111.,  67938.,\n",
      "         66029.,  83088.,  81363.,  93940.,  91738.,  98273., 101302., 113812.,\n",
      "        109431., 105582., 116969., 112635., 122391., 121872.],\n",
      "       dtype=torch.float64)\n"
     ]
    }
   ],
   "source": [
    "print(y)"
   ]
  },
  {
   "cell_type": "code",
   "execution_count": 8,
   "metadata": {},
   "outputs": [
    {
     "data": {
      "text/plain": [
       "30"
      ]
     },
     "execution_count": 8,
     "metadata": {},
     "output_type": "execute_result"
    }
   ],
   "source": [
    "#total samples\n",
    "torch.numel(x) #to find the total number of elements"
   ]
  },
  {
   "cell_type": "code",
   "execution_count": 9,
   "metadata": {},
   "outputs": [],
   "source": [
    "train_size=0.8*30#20 percent of the data=24"
   ]
  },
  {
   "cell_type": "code",
   "execution_count": 10,
   "metadata": {},
   "outputs": [],
   "source": [
    "x_train,y_train,x_test,y_test=x[:24],y[:24],x[24:],y[24:]"
   ]
  },
  {
   "cell_type": "code",
   "execution_count": 11,
   "metadata": {},
   "outputs": [
    {
     "name": "stdout",
     "output_type": "stream",
     "text": [
      "torch.Size([24])\n",
      "torch.Size([24])\n",
      "torch.Size([6])\n",
      "torch.Size([6])\n"
     ]
    }
   ],
   "source": [
    "#printing the shape of each\n",
    "print(x_train.shape)\n",
    "print(y_train.shape)\n",
    "print(x_test.shape)\n",
    "print(y_test.shape)"
   ]
  },
  {
   "cell_type": "code",
   "execution_count": 12,
   "metadata": {},
   "outputs": [
    {
     "data": {
      "image/png": "[encoded data removed]",
      "text/plain": [
       "<Figure size 432x288 with 1 Axes>"
      ]
     },
     "metadata": {
      "needs_background": "light"
     },
     "output_type": "display_data"
    }
   ],
   "source": [
    "plt.scatter(x_train,y_train)\n",
    "plt.xlabel(\"Years of experience\")\n",
    "plt.ylabel(\"Salary\")\n",
    "plt.title(\"Scatter Plot\")\n",
    "plt.show()"
   ]
  },
  {
   "cell_type": "code",
   "execution_count": 13,
   "metadata": {},
   "outputs": [],
   "source": [
    "#y=mx+c\n",
    "#here c is the bias that we will have \n",
    "#m is the weight or slope\n",
    "#x,y independent and dependent varaible resp."
   ]
  },
  {
   "cell_type": "code",
   "execution_count": 14,
   "metadata": {},
   "outputs": [
    {
     "name": "stdout",
     "output_type": "stream",
     "text": [
      "tensor([-1.7956, -0.7925,  0.6095,  0.9808, -0.7675,  0.9437,  0.5104, -1.0822,\n",
      "        -1.1153,  0.3345, -0.6838, -0.1796,  0.5634,  1.5852,  0.5393,  2.1221,\n",
      "        -0.3791,  0.5032,  0.0503,  0.2102,  0.4681,  0.9852,  0.2157, -0.2242],\n",
      "       requires_grad=True)\n",
      "tensor([-0.3802, -0.4772, -1.8648,  0.7988,  0.6515, -0.1082,  0.4254, -1.3710,\n",
      "         1.0660,  0.2313, -0.0938,  1.1048,  1.1984,  0.1451,  1.2081, -0.4105,\n",
      "        -0.6596,  1.1369, -0.5593, -0.8261,  0.3420, -1.4750, -1.0511, -1.7709],\n",
      "       requires_grad=True)\n"
     ]
    }
   ],
   "source": [
    "m,c=torch.randn(24,requires_grad=True),torch.randn(24,requires_grad=True)\n",
    "print(m)\n",
    "print(c)"
   ]
  },
  {
   "cell_type": "code",
   "execution_count": 15,
   "metadata": {},
   "outputs": [],
   "source": [
    "def model(x):\n",
    "    x=x.double()\n",
    "    return x*m.t()+c"
   ]
  },
  {
   "cell_type": "code",
   "execution_count": 16,
   "metadata": {},
   "outputs": [],
   "source": [
    "predictions=model(x_train) #it is just to show how it will predict"
   ]
  },
  {
   "cell_type": "code",
   "execution_count": 17,
   "metadata": {},
   "outputs": [
    {
     "data": {
      "text/plain": [
       "tensor([-2.3554, -1.5074, -0.9505,  2.7605, -1.0371,  2.6285,  1.9565, -4.8340,\n",
       "        -2.5030,  1.4690, -2.7606,  0.3863,  3.4519,  6.6443,  3.6351,  9.9876,\n",
       "        -2.5929,  3.8039, -0.2623,  0.4351,  3.5252,  5.5197,  0.6532, -3.6093],\n",
       "       dtype=torch.float64, grad_fn=<AddBackward0>)"
      ]
     },
     "execution_count": 17,
     "metadata": {},
     "output_type": "execute_result"
    }
   ],
   "source": [
    "predictions #so here we see the predictions are way to vague"
   ]
  },
  {
   "cell_type": "code",
   "execution_count": 18,
   "metadata": {},
   "outputs": [
    {
     "data": {
      "text/plain": [
       "tensor([ 39343.,  46205.,  37731.,  43525.,  39891.,  56642.,  60150.,  54445.,\n",
       "         64445.,  57189.,  63218.,  55794.,  56957.,  57081.,  61111.,  67938.,\n",
       "         66029.,  83088.,  81363.,  93940.,  91738.,  98273., 101302., 113812.],\n",
       "       dtype=torch.float64)"
      ]
     },
     "execution_count": 18,
     "metadata": {},
     "output_type": "execute_result"
    }
   ],
   "source": [
    "y_train #here just to give an idea how vastly the values are varying"
   ]
  },
  {
   "cell_type": "code",
   "execution_count": 19,
   "metadata": {},
   "outputs": [],
   "source": [
    "#now we we will compare how the predictions are as compared to our target variables\n",
    "def mse(t1,t2):\n",
    "    diff=t1-t2\n",
    "    return torch.sum(diff**2/diff.numel())"
   ]
  },
  {
   "cell_type": "code",
   "execution_count": 20,
   "metadata": {},
   "outputs": [],
   "source": [
    "#here diff can be understood as targets-predicted values"
   ]
  },
  {
   "cell_type": "code",
   "execution_count": 21,
   "metadata": {},
   "outputs": [
    {
     "data": {
      "text/plain": [
       "tensor(4.8234e+09, dtype=torch.float64, grad_fn=<SumBackward0>)"
      ]
     },
     "execution_count": 21,
     "metadata": {},
     "output_type": "execute_result"
    }
   ],
   "source": [
    "mse(y_train,predictions) #so the number here is gigantic af! \n",
    "#need not worry will bring it down"
   ]
  },
  {
   "cell_type": "code",
   "execution_count": 22,
   "metadata": {},
   "outputs": [],
   "source": [
    "loss=mse(y_train,predictions)\n",
    "loss.backward()"
   ]
  },
  {
   "cell_type": "code",
   "execution_count": 23,
   "metadata": {},
   "outputs": [
    {
     "data": {
      "text/plain": [
       "tensor([ -3606.6575,  -5005.7051,  -4716.4937,  -7253.7065,  -7313.5400,\n",
       "        -13687.8477, -15037.0107, -14519.9561, -17186.0000, -17632.8223,\n",
       "        -20546.7480, -18597.8711, -18984.5156, -19500.4043, -22915.2617,\n",
       "        -27737.2715, -28063.4277, -36695.5195, -40003.6055, -46969.7812,\n",
       "        -51982.8672, -58141.5938, -66690.0547, -77774.0000])"
      ]
     },
     "execution_count": 23,
     "metadata": {},
     "output_type": "execute_result"
    }
   ],
   "source": [
    "#checking grads\n",
    "m.grad"
   ]
  },
  {
   "cell_type": "code",
   "execution_count": 24,
   "metadata": {},
   "outputs": [
    {
     "data": {
      "text/plain": [
       "tensor([-3278.7795, -3850.5422, -3144.3291, -3626.8533, -3324.3364, -4719.9478,\n",
       "        -5012.3369, -4537.4863, -5370.6255, -4765.6274, -5268.3965, -4649.4678,\n",
       "        -4746.1289, -4756.1963, -5092.2803, -5660.6675, -5502.6328, -6923.6831,\n",
       "        -6780.2720, -7828.2969, -7644.5396, -8188.9565, -8441.7793, -9484.6338])"
      ]
     },
     "execution_count": 24,
     "metadata": {},
     "output_type": "execute_result"
    }
   ],
   "source": [
    "c.grad"
   ]
  },
  {
   "cell_type": "code",
   "execution_count": 25,
   "metadata": {},
   "outputs": [
    {
     "data": {
      "text/plain": [
       "tensor([0., 0., 0., 0., 0., 0., 0., 0., 0., 0., 0., 0., 0., 0., 0., 0., 0., 0., 0., 0., 0., 0., 0., 0.])"
      ]
     },
     "execution_count": 25,
     "metadata": {},
     "output_type": "execute_result"
    }
   ],
   "source": [
    "#initialising the grads to zero \n",
    "m.grad.zero_()\n",
    "c.grad.zero_()"
   ]
  },
  {
   "cell_type": "code",
   "execution_count": 26,
   "metadata": {},
   "outputs": [],
   "source": [
    "#this is how you adjust weights\n",
    "with torch.no_grad(): #with this in play torch will not track or modify the grad of tensors\n",
    "    m-=m.grad*1e-5\n",
    "    c-=c.grad*1e-5\n",
    "    m.grad.zero_()\n",
    "    c.grad.zero_()"
   ]
  },
  {
   "cell_type": "code",
   "execution_count": 27,
   "metadata": {},
   "outputs": [],
   "source": [
    "#now training the data for multiple epochs\n",
    "for i in range(100):\n",
    "    pred=model(x_train)\n",
    "    loss=mse(y_train,pred)\n",
    "    loss.backward()\n",
    "    with torch.no_grad():\n",
    "        m-=m.grad*1e-3\n",
    "        c-=c.grad*1e-3\n",
    "        m.grad.zero_()\n",
    "        c.grad.zero_()"
   ]
  },
  {
   "cell_type": "code",
   "execution_count": 28,
   "metadata": {},
   "outputs": [
    {
     "name": "stdout",
     "output_type": "stream",
     "text": [
      "tensor(2.8871e+09, dtype=torch.float64, grad_fn=<SumBackward0>)\n"
     ]
    }
   ],
   "source": [
    "#to verify the loss\n",
    "preds=model(x_train)\n",
    "loss=mse(y_train,preds)\n",
    "print(loss)"
   ]
  },
  {
   "cell_type": "code",
   "execution_count": null,
   "metadata": {},
   "outputs": [],
   "source": []
  }
 ],
 "metadata": {
  "kernelspec": {
   "display_name": "Python 3",
   "language": "python",
   "name": "python3"
  },
  "language_info": {
   "codemirror_mode": {
    "name": "ipython",
    "version": 3
   },
   "file_extension": ".py",
   "mimetype": "text/x-python",
   "name": "python",
   "nbconvert_exporter": "python",
   "pygments_lexer": "ipython3",
   "version": "3.7.4"
  }
 },
 "nbformat": 4,
 "nbformat_minor": 2
}
